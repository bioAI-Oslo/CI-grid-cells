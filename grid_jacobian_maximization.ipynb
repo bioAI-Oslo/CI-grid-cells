{
 "cells": [
  {
   "cell_type": "code",
   "execution_count": 1,
   "metadata": {
    "colab": {
     "base_uri": "https://localhost:8080/"
    },
    "id": "rTWS-KrlZToD",
    "outputId": "5f7bf5b4-fdfc-40b5-ad4c-b76be7026c5e"
   },
   "outputs": [
    {
     "ename": "ModuleNotFoundError",
     "evalue": "No module named 'tensorflow'",
     "output_type": "error",
     "traceback": [
      "\u001b[0;31m---------------------------------------------------------------------------\u001b[0m",
      "\u001b[0;31mModuleNotFoundError\u001b[0m                       Traceback (most recent call last)",
      "Input \u001b[0;32mIn [1]\u001b[0m, in \u001b[0;36m<cell line: 7>\u001b[0;34m()\u001b[0m\n\u001b[1;32m      4\u001b[0m \u001b[38;5;28;01mimport\u001b[39;00m \u001b[38;5;21;01mmatplotlib\u001b[39;00m\u001b[38;5;21;01m.\u001b[39;00m\u001b[38;5;21;01mpyplot\u001b[39;00m \u001b[38;5;28;01mas\u001b[39;00m \u001b[38;5;21;01mplt\u001b[39;00m\n\u001b[1;32m      5\u001b[0m \u001b[38;5;28;01mimport\u001b[39;00m \u001b[38;5;21;01mplotly\u001b[39;00m\u001b[38;5;21;01m.\u001b[39;00m\u001b[38;5;21;01mgraph_objects\u001b[39;00m \u001b[38;5;28;01mas\u001b[39;00m \u001b[38;5;21;01mgo\u001b[39;00m\n\u001b[0;32m----> 7\u001b[0m \u001b[38;5;28;01mimport\u001b[39;00m \u001b[38;5;21;01mtensorflow\u001b[39;00m \u001b[38;5;28;01mas\u001b[39;00m \u001b[38;5;21;01mtf\u001b[39;00m\n",
      "\u001b[0;31mModuleNotFoundError\u001b[0m: No module named 'tensorflow'"
     ]
    }
   ],
   "source": [
    "#!pip install umap-learn\n",
    "import umap\n",
    "import numpy as np\n",
    "import matplotlib.pyplot as plt\n",
    "import plotly.graph_objects as go\n",
    "\n",
    "import tensorflow as tf"
   ]
  },
  {
   "cell_type": "code",
   "execution_count": null,
   "metadata": {
    "id": "-l2TJpHsdpmv"
   },
   "outputs": [],
   "source": [
    "def nearest_neighbour_distance(g):\n",
    "    d = np.linalg.norm(g[:,None] - g[None],axis =-1)\n",
    "    a = np.amax(d)\n",
    "    for i in range(len(d)):\n",
    "        d[i,i] = a\n",
    "    return np.amin(d, axis = -1)"
   ]
  },
  {
   "cell_type": "code",
   "execution_count": null,
   "metadata": {
    "id": "mNYB0gQkZzqv"
   },
   "outputs": [],
   "source": [
    "class TorusOptimizer(tf.keras.Model):\n",
    "    def __init__(self, l2 = 1, n_units = 3, n_waves = 2, theta = np.pi/3, **kwargs):\n",
    "        '''\n",
    "        Tensorflow Keras model for performing optimizing of Torus\n",
    "        '''\n",
    "        super().__init__(**kwargs)\n",
    "\n",
    "        #rot = lambda x, t: np.array([[np.cos(t), -np.sin(t)], [np.sin(t), np.cos(t)]])@x\n",
    "        self.l2 = l2\n",
    "\n",
    "        # wave vectors\n",
    "        #k = np.array([rot(np.array([1,0]), i*theta) for i in range(n_waves)])[None]*np.ones((n_units, 1, 1))\n",
    "        #self.k = self.add_weight(\"k\", shape = k.shape, initializer = tf.keras.initializers.Constant(k), trainable = True)\n",
    "        t = np.random.uniform(0, 2*np.pi, (n_waves))\n",
    "        self.theta = self.add_weight(\"t\", shape = t.shape, initializer = tf.keras.initializers.Constant(t), trainable = True)\n",
    "        # amplitudes\n",
    "        w = np.random.uniform(0, 1, (n_units, n_waves))\n",
    "        self.w = tf.ones(w.shape) \n",
    "        #self.w = self.add_weight(\"w\", shape = w.shape, initializer = tf.keras.initializers.Constant(w), trainable = True)\n",
    "        # phases\n",
    "        phi = np.random.uniform(0, 2*np.pi, (n_units, 2))\n",
    "        self.phi = self.add_weight(\"phi\", shape = phi.shape, initializer = tf.keras.initializers.Constant(phi), trainable = True)\n",
    "\n",
    "    @tf.function\n",
    "    def grid_func(self, r):\n",
    "        k = tf.stack([tf.math.cos(self.theta), tf.math.sin(self.theta)], axis = -1)\n",
    "        rhat = r[:,None] - self.phi[None]\n",
    "        kr = tf.reduce_sum(k[None,None]*rhat[...,None,:], axis = -1)\n",
    "        g =  tf.reduce_sum(self.w[None]*tf.math.cos(kr), axis = -1)\n",
    "        return g\n",
    "\n",
    "    @tf.function\n",
    "    def grid_func_jacobian(self, r):\n",
    "        k = tf.stack([tf.math.cos(self.theta), tf.math.sin(self.theta)], axis = -1)\n",
    "        rhat = r[:,None] - self.phi[None]\n",
    "        kr = tf.reduce_sum(k[None,None]*rhat[...,None,:], axis = -1)\n",
    "        Jx = -tf.reduce_sum(k[None,None,:,0]*self.w[None]*tf.math.sin(kr), axis = -1)\n",
    "        Jy = -tf.reduce_sum(k[None,None,:,1]*self.w[None]*tf.math.sin(kr), axis = -1)\n",
    "        J = tf.stack((Jx, Jy), axis = -1)\n",
    "        return J\n",
    "\n",
    "    @tf.function\n",
    "    def grid_func_jacobian_det(self, J):\n",
    "        det_squared = tf.linalg.det(tf.transpose(J, (0, 2, 1))@J)\n",
    "        return det_squared\n",
    "\n",
    "    def call(self, inputs, training = True):\n",
    "      # compute Jacobian determinant\n",
    "      j = self.grid_func_jacobian(inputs)\n",
    "      det_j = self.grid_func_jacobian_det(j)\n",
    "      # add amplitude regularization\n",
    "      #l2_loss = self.l2*tf.reduce_sum(self.w**2)  \n",
    "      #self.add_loss(l2_loss)\n",
    "      # minimize negative/ maximize jacobian determinant\n",
    "      self.add_loss(-tf.reduce_mean(det_j))\n",
    "      return tf.zeros(inputs[0].shape)"
   ]
  },
  {
   "cell_type": "code",
   "execution_count": null,
   "metadata": {
    "id": "2Ig6QK6vZz_e"
   },
   "outputs": [],
   "source": [
    "def fetch_model(dynamic, lr, l2 = 0.1, n_units = 3, n_waves = 3, theta = np.pi/3):\n",
    "    model = TorusOptimizer(l2, n_units, n_waves, theta, dynamic = dynamic)\n",
    "    model.compile(loss = 'mse', optimizer = tf.keras.optimizers.Adam(lr),\n",
    "                  metrics=['mae'])\n",
    "    return model\n",
    "\n",
    "model = fetch_model(False, lr = 1e-3, n_units = 3)"
   ]
  },
  {
   "cell_type": "code",
   "execution_count": null,
   "metadata": {
    "id": "tm1UfyiUqZsi"
   },
   "outputs": [],
   "source": [
    "# plot meshgrid\n",
    "n_samples = 50\n",
    "x = np.linspace(0, 2*np.pi, n_samples, endpoint = False)\n",
    "y = np.linspace(0, 2*np.pi, n_samples, endpoint = False)\n",
    "\n",
    "xx, yy = np.meshgrid(x, y)\n",
    "u = np.stack([xx.ravel(), yy.ravel()], axis = -1).astype(\"float32\")\n",
    "\n",
    "# plot jacobian determinant\n",
    "J = model.grid_func_jacobian(u)\n",
    "det_J = model.grid_func_jacobian_det(J)\n",
    "det_J_pre_train = np.reshape(det_J.numpy(), (n_samples, n_samples))"
   ]
  },
  {
   "cell_type": "code",
   "execution_count": null,
   "metadata": {
    "id": "yUJB0OWKmSXc"
   },
   "outputs": [],
   "source": []
  },
  {
   "cell_type": "code",
   "execution_count": null,
   "metadata": {
    "id": "qGEU6PFPlxQR"
   },
   "outputs": [],
   "source": []
  },
  {
   "cell_type": "code",
   "execution_count": null,
   "metadata": {
    "colab": {
     "base_uri": "https://localhost:8080/",
     "height": 542
    },
    "id": "lNV5QUBBpQQF",
    "outputId": "f3bae568-2718-4522-9cf6-ec37d9f602c2"
   },
   "outputs": [],
   "source": [
    "# UMAP before training\n",
    "gu = model.grid_func(u)\n",
    "reducer = umap.UMAP(n_components = 3)\n",
    "gumap = reducer.fit_transform(gu)\n",
    "nn = nearest_neighbour_distance(gumap)\n",
    "marker=dict(size=4,color=nn,colorscale='Viridis',opacity=1)\n",
    "fig = go.Figure(data=[go.Scatter3d(x=gumap[:,0], y=gumap[:,1], z=gumap[:,2],\n",
    "                                   mode='markers', marker = marker)])\n",
    "fig.show()"
   ]
  },
  {
   "cell_type": "code",
   "execution_count": null,
   "metadata": {
    "colab": {
     "base_uri": "https://localhost:8080/"
    },
    "id": "hikabfT3geD-",
    "outputId": "655c8f01-26ed-489a-f830-052083fcd92e"
   },
   "outputs": [],
   "source": [
    "saver = tf.keras.callbacks.ModelCheckpoint(\n",
    "    filepath='./',\n",
    "    save_weights_only=True,\n",
    "    monitor='loss',\n",
    "    mode='min',\n",
    "    save_best_only=True) \n",
    "\n",
    "r = np.random.uniform(0, 2*np.pi, (50000, 2)).astype(\"float32\") # training data :)\n",
    "model.fit(r, np.zeros(r.shape), epochs = 50, batch_size = 50, callbacks = [saver])"
   ]
  },
  {
   "cell_type": "code",
   "execution_count": null,
   "metadata": {
    "id": "5ZrByYVUTbAN"
   },
   "outputs": [],
   "source": []
  },
  {
   "cell_type": "code",
   "execution_count": null,
   "metadata": {
    "colab": {
     "base_uri": "https://localhost:8080/",
     "height": 234
    },
    "id": "mudSM49jNjRt",
    "outputId": "ed6024c6-c34f-4a7a-8957-d6f0ed98270d"
   },
   "outputs": [],
   "source": [
    "# plot jacobian determinant\n",
    "fig, axs = plt.subplots(1, 2)\n",
    "J = model.grid_func_jacobian(u)\n",
    "det_J = model.grid_func_jacobian_det(J)\n",
    "det_J = np.reshape(det_J.numpy(), (n_samples, n_samples))\n",
    "# visualize Jacobian determinants before/after training\n",
    "axs[0].imshow(det_J_pre_train, origin = \"lower\", cmap = \"jet\")\n",
    "axs[1].imshow(det_J, origin = \"lower\", cmap = \"jet\") \n",
    "axs[0].set_title(\"Before Training\")\n",
    "axs[1].set_title(\"After Training\")"
   ]
  },
  {
   "cell_type": "code",
   "execution_count": null,
   "metadata": {
    "colab": {
     "base_uri": "https://localhost:8080/",
     "height": 767
    },
    "id": "zW2U2xRtNufD",
    "outputId": "3e4f7437-46da-434f-ce97-e09900dce667"
   },
   "outputs": [],
   "source": [
    "# plot grid functions \n",
    "gu = model.grid_func(u)\n",
    "g = np.reshape(gu, (n_samples, n_samples, gu.shape[-1]))\n",
    "\n",
    "for i in range(3):\n",
    "  plt.imshow(g[...,i])\n",
    "  plt.show()"
   ]
  },
  {
   "cell_type": "code",
   "execution_count": null,
   "metadata": {
    "id": "an4Dt095l5Ju"
   },
   "outputs": [],
   "source": []
  },
  {
   "cell_type": "code",
   "execution_count": null,
   "metadata": {
    "id": "XwFIfPCii4_B"
   },
   "outputs": [],
   "source": []
  },
  {
   "cell_type": "code",
   "execution_count": null,
   "metadata": {
    "colab": {
     "base_uri": "https://localhost:8080/",
     "height": 542
    },
    "id": "oCi4xUbWnb1n",
    "outputId": "aec1e2e1-9b49-48ef-8d5c-8fff650413e4"
   },
   "outputs": [],
   "source": [
    "# UMAP after training\n",
    "gu = model.grid_func(u)\n",
    "reducer = umap.UMAP(n_components = 3)\n",
    "gumap2 = reducer.fit_transform(gu)\n",
    "nn = nearest_neighbour_distance(gumap)\n",
    "marker=dict(size=4,color=nn,colorscale='Viridis',opacity=1)\n",
    "fig = go.Figure(data=[go.Scatter3d(x=gumap2[:,0], y=gumap2[:,1], z=gumap2[:,2],\n",
    "                                   mode='markers', marker = marker)])\n",
    "fig.show()"
   ]
  },
  {
   "cell_type": "code",
   "execution_count": null,
   "metadata": {
    "id": "jFw3XslUlytV"
   },
   "outputs": [],
   "source": []
  },
  {
   "cell_type": "code",
   "execution_count": null,
   "metadata": {
    "colab": {
     "base_uri": "https://localhost:8080/",
     "height": 283
    },
    "id": "bFmm4w55oyZz",
    "outputId": "087f00dd-f652-4b1f-e900-f952c891e352"
   },
   "outputs": [],
   "source": [
    "plt.plot(*model.phi.numpy().T, \"o\")"
   ]
  },
  {
   "cell_type": "code",
   "execution_count": null,
   "metadata": {
    "colab": {
     "base_uri": "https://localhost:8080/",
     "height": 542
    },
    "id": "xjpggDsRymJx",
    "outputId": "6789bf0a-72b1-4f74-fe94-efa33653265f"
   },
   "outputs": [],
   "source": [
    "# UMAP after training\n",
    "gu = model.grid_func(u)\n",
    "nn = nearest_neighbour_distance(gu)\n",
    "marker=dict(size=4,color=nn,colorscale='Viridis',opacity=1)\n",
    "fig = go.Figure(data=[go.Scatter3d(x=gu[:,0], y=gu[:,1], z=gu[:,2],\n",
    "                                   mode='markers', marker = marker)])\n",
    "fig.show()"
   ]
  },
  {
   "cell_type": "code",
   "execution_count": null,
   "metadata": {
    "id": "iWlDst0q2KKT"
   },
   "outputs": [],
   "source": []
  }
 ],
 "metadata": {
  "accelerator": "GPU",
  "colab": {
   "provenance": []
  },
  "gpuClass": "standard",
  "kernelspec": {
   "display_name": "Python [conda env:ml]",
   "language": "python",
   "name": "conda-env-ml-py"
  },
  "language_info": {
   "codemirror_mode": {
    "name": "ipython",
    "version": 3
   },
   "file_extension": ".py",
   "mimetype": "text/x-python",
   "name": "python",
   "nbconvert_exporter": "python",
   "pygments_lexer": "ipython3",
   "version": "3.9.12"
  }
 },
 "nbformat": 4,
 "nbformat_minor": 4
}
