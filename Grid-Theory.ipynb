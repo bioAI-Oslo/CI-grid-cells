{
 "cells": [
  {
   "cell_type": "markdown",
   "id": "d26fa0d3-d8f5-47dc-b464-f84c9a0a612a",
   "metadata": {},
   "source": [
    "---\n",
    "# Grid Theory\n",
    "\n",
    "Konstantin Holzhausen (konstantin.holzhausen@fys.uio.no)\n",
    "\n",
    "7th July 2022\n",
    "\n",
    "---\n",
    "This notebook is commenting on the plane wave composition of [hexagonal Grid Cell ratemap patterns](https://onlinelibrary.wiley.com/doi/10.1002/hipo.20244). In particular, we analytically study the relationships between the symmetries of the pattern-generating plane waves and the symmetries of the generated pattern. We do that by comprehensively studying the relationship between the $\\vec{k}$-vectors (wave vectors) of the plane waves and the **Primitive Basis Vectors** of the hexagonal lattice formed by the peaks of the generated pattern.  "
   ]
  },
  {
   "cell_type": "markdown",
   "id": "3fb67adb-5e4a-45b4-b2cc-d650d52ebc33",
   "metadata": {},
   "source": [
    "## 2D Hexagonal Lattice, Basis Vectors, Primitive Basis, Unit Cells and the Wigner-Seitz-Cell"
   ]
  },
  {
   "cell_type": "code",
   "execution_count": 2,
   "id": "1e4152c4-b614-40e2-94d2-23d88a8af0e0",
   "metadata": {},
   "outputs": [],
   "source": [
    "import numpy as np\n",
    "from matplotlib import pyplot as plt"
   ]
  },
  {
   "cell_type": "code",
   "execution_count": 3,
   "id": "ebfb22f3-8f2c-4595-917e-512a875dacf1",
   "metadata": {},
   "outputs": [],
   "source": [
    "def rotmat(theta: float, degrees: bool=True):\n",
    "    if degrees:\n",
    "        theta = theta*np.pi / 180.\n",
    "    ct = np.cos(theta) # cos(theta)\n",
    "    st = np.sin(theta) # sin(theta)\n",
    "    return np.array([[ct, -st], [st, ct]])"
   ]
  },
  {
   "cell_type": "code",
   "execution_count": 4,
   "id": "af167eee-5364-4c87-9d40-cb31f852ed91",
   "metadata": {},
   "outputs": [],
   "source": [
    "# define matrix translating rotations around 60 degrees counter clock-wise\n",
    "rot60 = rotmat(60.)\n",
    "\n",
    "# primitive basis vectors of hexagonal grid\n",
    "a_0 = np.array([1., 0.])\n",
    "a_1 = rot60 @ a_0"
   ]
  },
  {
   "cell_type": "code",
   "execution_count": 18,
   "id": "5a3ac494-74c4-431d-bb8d-09ce42b80a70",
   "metadata": {},
   "outputs": [
    {
     "data": {
      "text/plain": [
       "(-5.5, 5.5, -5.5, 5.5)"
      ]
     },
     "execution_count": 18,
     "metadata": {},
     "output_type": "execute_result"
    },
    {
     "data": {
      "image/png": "[encoded data removed]",
      "text/plain": [
       "<Figure size 432x288 with 1 Axes>"
      ]
     },
     "metadata": {
      "needs_background": "light"
     },
     "output_type": "display_data"
    }
   ],
   "source": [
    "# draw grid\n",
    "\n",
    "x = np.arange(-5, 5 + 1)\n",
    "y = np.arange(-5, 5 + 1)\n",
    "xv, yv = np.meshgrid(x, y)\n",
    "grid = np.stack([xv, yv], axis=-1)\n",
    "\n",
    "hex_grid = grid[:, 0]*a_0 + grid[:, 1]*a_1\n",
    "\n",
    "fig, ax = plt.subplots()\n",
    "ax.scatter(*grid.T)\n",
    "ax.axis(\"equal\")"
   ]
  },
  {
   "cell_type": "code",
   "execution_count": 19,
   "id": "01060803-906c-4c00-94e5-f635e878368b",
   "metadata": {},
   "outputs": [
    {
     "data": {
      "text/plain": [
       "array([[-7.        , -4.33012702],\n",
       "       [-7.        , -3.46410162],\n",
       "       [-7.        , -2.59807621],\n",
       "       [-7.        , -1.73205081],\n",
       "       [-7.        , -0.8660254 ],\n",
       "       [-7.        ,  0.        ],\n",
       "       [-7.        ,  0.8660254 ],\n",
       "       [-7.        ,  1.73205081],\n",
       "       [-7.        ,  2.59807621],\n",
       "       [-7.        ,  3.46410162],\n",
       "       [-7.        ,  4.33012702]])"
      ]
     },
     "execution_count": 19,
     "metadata": {},
     "output_type": "execute_result"
    }
   ],
   "source": [
    "hex_grid"
   ]
  },
  {
   "cell_type": "code",
   "execution_count": null,
   "id": "73df7683-88de-41b0-9b20-cd1914e642d4",
   "metadata": {},
   "outputs": [],
   "source": []
  }
 ],
 "metadata": {
  "kernelspec": {
   "display_name": "Python 3 (ipykernel)",
   "language": "python",
   "name": "python3"
  },
  "language_info": {
   "codemirror_mode": {
    "name": "ipython",
    "version": 3
   },
   "file_extension": ".py",
   "mimetype": "text/x-python",
   "name": "python",
   "nbconvert_exporter": "python",
   "pygments_lexer": "ipython3",
   "version": "3.9.1"
  }
 },
 "nbformat": 4,
 "nbformat_minor": 5
}
