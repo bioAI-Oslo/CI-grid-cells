{
 "cells": [
  {
   "cell_type": "code",
   "execution_count": 1,
   "id": "8903231c-3c64-41d7-8b84-c8ae23c24bb5",
   "metadata": {},
   "outputs": [],
   "source": [
    "%load_ext autoreload\n",
    "%autoreload 2"
   ]
  },
  {
   "cell_type": "code",
   "execution_count": 2,
   "id": "1dbab2e3-e238-414a-8383-c4e65d034052",
   "metadata": {},
   "outputs": [],
   "source": [
    "import numpy as np\n",
    "import matplotlib\n",
    "import matplotlib.pyplot as plt\n",
    "from mpl_toolkits.axes_grid1 import make_axes_locatable\n",
    "plt.style.use(\"bioAI.mplstyle\")\n",
    "import torch\n",
    "import tqdm\n",
    "import scipy\n",
    "import umap\n",
    "from ripser import ripser\n",
    "from persim import plot_diagrams\n",
    "from scipy.spatial import Voronoi, voronoi_plot_2d\n",
    "\n",
    "import sys\n",
    "sys.path.append('../')\n",
    "from methods import Hexagon, HexagonalGCs, permutation_test\n",
    "from models import JacobianCI, JitterCI\n",
    "from plotting_functions import scatter3d, set_size\n",
    "from utils import rotation_matrix"
   ]
  },
  {
   "cell_type": "code",
   "execution_count": 3,
   "id": "d692d57f",
   "metadata": {},
   "outputs": [],
   "source": [
    "color_cycler = plt.rcParams['axes.prop_cycle'].by_key()['color']\n",
    "savefigs = True\n",
    "dpi=150"
   ]
  },
  {
   "cell_type": "code",
   "execution_count": 4,
   "id": "33fddbb6",
   "metadata": {},
   "outputs": [],
   "source": [
    "def train_model(model):\n",
    "    # Train model\n",
    "    nsamples_space = 2**8\n",
    "    loss_history = []\n",
    "    metric_history = []\n",
    "    phases_history = [model.phases.clone().detach().numpy()]\n",
    "    G_history = []\n",
    "    for epoch in tqdm.trange(5000):\n",
    "        rs = model.unit_cell.sample(nsamples_space)\n",
    "        rs = torch.tensor(rs,dtype=dtype)\n",
    "        loss = model.train_step(rs)\n",
    "        metric = model.CI_metric(r=rs).item()\n",
    "        G_history.append(model.metric_tensor(model.jacobian(rs)).detach().numpy())\n",
    "        loss_history.append(loss)\n",
    "        phases_history.append(model.phases.clone().detach().numpy())\n",
    "        metric_history.append(metric)\n",
    "    phases_history[-1] = model.unit_cell.wrap(phases_history[-1])\n",
    "    loss_history = np.array(loss_history)\n",
    "    metric_history = np.array(metric_history)\n",
    "    phases_history = np.array(phases_history)\n",
    "    G_history = np.array(G_history)\n",
    "    return loss_history, phases_history, metric_history, G_history\n",
    "\n",
    "def hex_radius(phases, model):\n",
    "    cdists = np.stack([model.unit_cell.geodesic(phases[i:i+1],phases) for i in range(len(phases))])\n",
    "    off_diag_mask = ~np.eye(cdists.shape[0],dtype=bool)\n",
    "    return np.mean(cdists[off_diag_mask]), np.std(cdists[off_diag_mask])\n",
    "\n",
    "def hex_orientation(phases, model, degrees=True):\n",
    "    # mirror x and y since arctan2 takes y as first argument and x as second\n",
    "    angles = np.stack([np.arctan2(*(model.unit_cell.wrap(phases - phases[i]))[:,::-1].T) \n",
    "                       for i in range(len(phases))])\n",
    "    # modulo 60 degrees\n",
    "    angles = angles % (np.pi/3)\n",
    "    angles = angles * 180/np.pi if degrees else angles\n",
    "    off_diag_mask = ~np.eye(phases.shape[0],dtype=bool)\n",
    "    return np.mean(angles[off_diag_mask]), np.std(angles[off_diag_mask]) "
   ]
  },
  {
   "cell_type": "code",
   "execution_count": 5,
   "id": "ec2dd814",
   "metadata": {},
   "outputs": [
    {
     "name": "stderr",
     "output_type": "stream",
     "text": [
      "100%|██████████| 5000/5000 [00:07<00:00, 631.01it/s]\n"
     ]
    }
   ],
   "source": [
    "# load trained model\n",
    "dtype = torch.float32\n",
    "model = JacobianCI(ncells=7,dtype=dtype,lr=1e-3, shift=0, p_magnitude=0)\n",
    "loss_history, phases_history, metric_history, G_history = train_model(model)"
   ]
  },
  {
   "cell_type": "code",
   "execution_count": 6,
   "id": "efd88ead",
   "metadata": {},
   "outputs": [
    {
     "data": {
      "text/plain": [
       "10.893394649130878"
      ]
     },
     "execution_count": 6,
     "metadata": {},
     "output_type": "execute_result"
    }
   ],
   "source": [
    "phases_history_short = phases_history[::25]\n",
    "phases_history_short = np.array([model.unit_cell.wrap(phases_history_short[i]) for i in range(len(phases_history_short))])\n",
    "\n",
    "radius, _ = hex_radius(phases_history[-1],model)\n",
    "orientation, _ = hex_orientation(phases_history[-1],model)\n",
    "center = np.mean(phases_history[-1],axis=0)\n",
    "metagon = Hexagon(radius, orientation, center)\n",
    "orientation"
   ]
  },
  {
   "cell_type": "code",
   "execution_count": 7,
   "id": "3c3f93fd-f3ba-49ce-b6b1-0e829904f9b2",
   "metadata": {},
   "outputs": [
    {
     "data": {
      "image/png": "[encoded data removed]",
      "text/plain": [
       "<Figure size 114.57x85.9278 with 1 Axes>"
      ]
     },
     "metadata": {
      "needs_background": "light"
     },
     "output_type": "display_data"
    }
   ],
   "source": [
    "figsize = set_size(fraction=(1/3,1/4),mode='square')\n",
    "fig, ax = plt.subplots(figsize=figsize)#,dpi=300)\n",
    "\n",
    "N = len(phases_history_short)\n",
    "[ax.scatter(*phases_history_short[i].T,color='black',alpha=(i+0.5)/(N+0.5)) for i in range(N)]\n",
    "ax.scatter(*phases_history[-1].T)\n",
    "model.unit_cell.plot(fig,ax,color=color_cycler[0])\n",
    "metagon.plot(fig,ax,color=color_cycler[1])\n",
    "\n",
    "\n",
    "#metagon_hpoint0 = metagon.hpoints[0]+metagon.center\n",
    "#xs1 = [metagon.center[0], metagon_hpoint0[0]]\n",
    "#ys1 = [metagon.center[1], metagon_hpoint0[1]]\n",
    "\n",
    "#model_hpoint0 = model.unit_cell.hpoints[0]+model.unit_cell.center\n",
    "#xs2 = [model.unit_cell.center[0], model_hpoint0[0]]\n",
    "#ys2 = [model.unit_cell.center[1], model_hpoint0[1]]\n",
    "\n",
    "#ax.plot(xs1, ys1, color='red')\n",
    "#ax.plot(xs2, ys2, color='red')\n",
    "ax.axis('off')\n",
    "ax.axis('equal')\n",
    "padding = 0.0\n",
    "ax.set_position([-padding, -padding, 1+padding, 1+padding])\n",
    "\n",
    "if savefigs:\n",
    "    fig.savefig('../results/P3-optimal-7phases')"
   ]
  },
  {
   "cell_type": "code",
   "execution_count": 8,
   "id": "0588c631-5280-4870-888d-e20f58646f2e",
   "metadata": {},
   "outputs": [
    {
     "name": "stderr",
     "output_type": "stream",
     "text": [
      "100%|██████████| 100/100 [00:08<00:00, 11.67it/s]\n"
     ]
    }
   ],
   "source": [
    "\"\"\"\n",
    "Check symmetry of learned solution to rotation and scale\n",
    "\"\"\"\n",
    "import copy\n",
    "center = torch.Tensor([0,0])\n",
    "standard_metagon = Hexagon(radius, 0, center)\n",
    "search_model = copy.deepcopy(model)\n",
    "\n",
    "res=100\n",
    "scales = np.linspace(0.0, model.unit_cell.radius, num=res)\n",
    "orientations = np.linspace(0, 30.0, num=res)\n",
    "mesh = model.unit_cell.mesh(100)\n",
    "CIness_rm = np.zeros((res,res))\n",
    "\n",
    "for i in tqdm.trange(len(scales)):\n",
    "    for j, angle in enumerate(orientations):\n",
    "        metagon = Hexagon(scales[i], angle, center)\n",
    "        search_model.set_phases(np.concatenate([metagon.center[None], metagon.hpoints],axis=0))\n",
    "        CIness_rm[i,j] = search_model.CI_metric(r=torch.tensor(mesh,dtype=torch.float32)).item()"
   ]
  },
  {
   "cell_type": "code",
   "execution_count": 9,
   "id": "954f68b5",
   "metadata": {},
   "outputs": [
    {
     "data": {
      "image/png": "[encoded data removed]",
      "text/plain": [
       "<Figure size 114.57x85.9278 with 1 Axes>"
      ]
     },
     "metadata": {
      "needs_background": "light"
     },
     "output_type": "display_data"
    }
   ],
   "source": [
    "fig, ax = plt.subplots(figsize=set_size(fraction=(1/3,1/4),mode='square'))\n",
    "im = ax.imshow(\n",
    "    np.log(CIness_rm).T, #imshow uses inverted axis (x, y) -> (y, x)\n",
    "    origin = 'lower',\n",
    "    #cmap='coolwarm',\n",
    "    #extent=[np.min(scales), np.max(scales), np.min(orientations), np.max(orientations)]\n",
    ")\n",
    "\"\"\"\n",
    "x_idxs = np.around(np.array([0.1,0.9]) * CIness_rm.shape[0]).astype(int)\n",
    "y_idxs = np.around(np.array([0.1,0.9]) * CIness_rm.shape[1]).astype(int)\n",
    "ax.set_xticks(x_idxs)\n",
    "ax.set_yticks(y_idxs)\n",
    "ax.set_xticklabels(np.around(scales[x_idxs],decimals=2))\n",
    "ax.set_yticklabels(np.around(orientations[y_idxs],decimals=2))\n",
    "\"\"\"\n",
    "# set ticks for min and max values\n",
    "idx = np.unravel_index(np.argmin(CIness_rm), CIness_rm.shape)\n",
    "# add min and max ticks\n",
    "fractions = np.linspace(0,1,2)\n",
    "xticks = (CIness_rm.shape[0] - 1)*fractions\n",
    "yticks = (CIness_rm.shape[1] - 1)*fractions\n",
    "# add min and max value ticks\n",
    "xticks = np.append(xticks, idx[0])\n",
    "yticks = np.append(yticks, idx[1])\n",
    "# sort ticks\n",
    "xticks = np.sort(xticks).astype(int)\n",
    "xticks = xticks[:-1]\n",
    "yticks = np.sort(yticks).astype(int)\n",
    "# add corresponding tick labels\n",
    "xticklabels = np.around(scales[xticks],decimals=2)\n",
    "yticklabels = np.around(orientations[yticks],decimals=1)\n",
    "# set ticks\n",
    "ax.set_xticks(xticks)\n",
    "ax.set_yticks(yticks)\n",
    "ax.set_xticklabels(xticklabels)\n",
    "ax.set_yticklabels(yticklabels)\n",
    "\n",
    "\"\"\"\n",
    "# set min and max ticks\n",
    "fractions = np.linspace(0,1,2)\n",
    "ax.set_xticks(CIness_rm.shape[0]*fractions)\n",
    "ax.set_yticks(CIness_rm.shape[1]*fractions)\n",
    "ax.set_xticklabels(np.around(scales[::scales.size-1]*fractions,decimals=2))\n",
    "ax.set_yticklabels(np.around(orientations[::scales.size-1]*fractions,decimals=2))\n",
    "\n",
    "divider = make_axes_locatable(ax)\n",
    "cax = divider.append_axes(\"right\", size=\"8%\", pad=0.02)\n",
    "plt.colorbar(im, cax=cax)\n",
    "\"\"\"\n",
    "#ax.set_xlabel('Scale')\n",
    "#ax.set_ylabel('Degrees')\n",
    "#ax.set_title('CIness')\n",
    "#fig.tight_layout(pad=0.5, w_pad=0, h_pad=0.5)\n",
    "fig.tight_layout(pad=0, w_pad=0, h_pad=0)\n",
    "\n",
    "if savefigs:\n",
    "    fig.savefig('../results/P3-CI_metric_rm')"
   ]
  },
  {
   "cell_type": "code",
   "execution_count": 10,
   "id": "1695f0e0",
   "metadata": {},
   "outputs": [
    {
     "name": "stderr",
     "output_type": "stream",
     "text": [
      "100%|██████████| 10000/10000 [00:08<00:00, 1236.84it/s]\n"
     ]
    }
   ],
   "source": [
    "CIness_shift = np.zeros(len(mesh))\n",
    "for i in tqdm.trange(len(mesh)):\n",
    "    meta_phase = mesh[i]\n",
    "    optimal_shifted_phases_wrapped = phases_history[-1] + meta_phase #model.unit_cell.wrap(phases_history[-1] + meta_phase)\n",
    "    model.set_phases(optimal_shifted_phases_wrapped)\n",
    "    CIness_shift[i] = model.CI_metric(r=torch.tensor(mesh, dtype=dtype)).item()"
   ]
  },
  {
   "cell_type": "code",
   "execution_count": 11,
   "id": "c6e687ed",
   "metadata": {},
   "outputs": [
    {
     "data": {
      "image/png": "[encoded data removed]",
      "text/plain": [
       "<Figure size 114.57x85.9278 with 2 Axes>"
      ]
     },
     "metadata": {
      "needs_background": "light"
     },
     "output_type": "display_data"
    }
   ],
   "source": [
    "fig, ax = plt.subplots(figsize=set_size(fraction=(1/3,1/4),mode='square'))\n",
    "im = ax.scatter(*mesh.T,c=np.log(CIness_shift),vmin=np.min(np.log(CIness_rm)),vmax=np.max(np.log(CIness_rm)))#,cmap='coolwarm')\n",
    "model.unit_cell.plot(fig,ax,color='black')\n",
    "ax.axis('off')\n",
    "ax.axis('equal')\n",
    "\n",
    "\n",
    "divider = make_axes_locatable(ax)\n",
    "cax = divider.append_axes(\"right\", size=\"8%\", pad=0.05)\n",
    "plt.colorbar(im, cax=cax)\n",
    "\n",
    "#ax.set_title('Shift')\n",
    "#ax.set_ylabel('shift')\n",
    "fig.tight_layout(pad=0.55, w_pad=0, h_pad=0.55)\n",
    "#fig.tight_layout(pad=0, w_pad=0, h_pad=0)\n",
    "\n",
    "\n",
    "if savefigs:\n",
    "    fig.savefig('../results/P3-CI_shift_symmetry')"
   ]
  },
  {
   "cell_type": "code",
   "execution_count": 12,
   "id": "613705cc",
   "metadata": {},
   "outputs": [],
   "source": [
    "radius = model.unit_cell.radius\n",
    "# 4 points of a square defining the edges of the unit cell in rhombus basis\n",
    "coords = np.array([\n",
    "    [-radius * 3 / 4, -radius * 3 / 4],\n",
    "    [radius * 3 / 4, -radius * 3 / 4],\n",
    "    [radius * 3 / 4, radius * 3 / 4],\n",
    "    [-radius * 3 / 4, radius * 3 / 4],\n",
    "])\n",
    "\n",
    "from utils import rhombus_transform\n",
    "#rhombus_coords = rhombus_transform(coords, theta=-60, degrees=True)\n",
    "rhombus_coords = rhombus_transform(coords, theta=60, degrees=True)\n",
    "\n",
    "centered_solution = phases_history[-1] - np.mean(phases_history[-1], axis=0)\n",
    "#centered_solution = centered_solution @ rotation_matrix(-orientation, degrees=True).T"
   ]
  },
  {
   "cell_type": "code",
   "execution_count": 13,
   "id": "1bd34b7b",
   "metadata": {},
   "outputs": [
    {
     "name": "stdout",
     "output_type": "stream",
     "text": [
      "(array([0, 1, 2, 3, 4, 5, 6]), array([1426, 1427, 1433, 1428, 1429, 1427, 1430]))\n"
     ]
    },
    {
     "data": {
      "image/png": "[encoded data removed]",
      "text/plain": [
       "<Figure size 114.57x85.9278 with 1 Axes>"
      ]
     },
     "metadata": {
      "needs_background": "light"
     },
     "output_type": "display_data"
    }
   ],
   "source": [
    "fig,ax  = plt.subplots(figsize=set_size(fraction=(1/3,1/4),mode='square'))#,dpi=300)\n",
    "# SPATIAL VORONOI\n",
    "voronoi_dists = np.stack([model.unit_cell.geodesic(mesh,centered_solution[i:i+1]) for i in range(len(model.phases))])\n",
    "vd_idxs = np.argmin(voronoi_dists,axis=0)\n",
    "[ax.scatter(*mesh[vd_idxs==i].T, color=color_cycler[i]) for i in range(len(model.phases))]\n",
    "for basis in model.unit_cell.basis:\n",
    "    [ax.scatter(*(mesh[vd_idxs==i] - 2*basis).T, color=color_cycler[i], alpha=0.025) for i in range(len(model.phases))];\n",
    "\n",
    "ax.plot(*rhombus_coords.T, color='black', alpha=0.5)#, linewidth=0.5)\n",
    "ax.plot(*rhombus_coords[[0,-1]].T, color='black', alpha=0.5)#, linewidth=0.5)\n",
    "ax.axis('equal')\n",
    "ax.axis('off')\n",
    "padding = 0.0\n",
    "ax.set_position([-padding, -padding, 1+padding, 1+padding])\n",
    "print(np.unique(vd_idxs, return_counts=True))\n",
    "\n",
    "if savefigs:\n",
    "    fig.savefig('../results/P3-CI_voronoi')"
   ]
  },
  {
   "cell_type": "code",
   "execution_count": 14,
   "id": "04dbb227-4de8-408a-acdf-42527b517179",
   "metadata": {},
   "outputs": [],
   "source": [
    "projection = umap.UMAP(n_neighbors=100,n_components=3)\n",
    "activity = model(torch.tensor(mesh, dtype=dtype)).detach().numpy()\n",
    "manifold = projection.fit_transform(activity)"
   ]
  },
  {
   "cell_type": "code",
   "execution_count": 15,
   "id": "e3d62953",
   "metadata": {},
   "outputs": [
    {
     "data": {
      "image/png": "[encoded data removed]",
      "text/plain": [
       "<Figure size 114.57x85.9278 with 4 Axes>"
      ]
     },
     "metadata": {
      "needs_background": "light"
     },
     "output_type": "display_data"
    }
   ],
   "source": [
    "# SAME TORUS MULTIPLE VIEW ANGLES\n",
    "\n",
    "figsize = set_size(fraction=(1/3,1/4),mode='square')\n",
    "nrows, ncols = 2, 2\n",
    "fig,axs = plt.subplots(ncols=ncols,nrows=nrows,subplot_kw={\"projection\": \"3d\"},figsize=figsize)#, dpi=300)\n",
    "\n",
    "azims = np.linspace(0, 180, ncols + 1)[:-1]\n",
    "elevs = np.linspace(0, 90, nrows + 1)[:-1]\n",
    "view_angles = np.stack(np.meshgrid(azims, elevs), axis=-1)\n",
    "grid = np.meshgrid(np.linspace(0,1,nrows,endpoint=False), np.linspace(0,1,ncols,endpoint=False))\n",
    "grid = np.stack(grid, axis=-1)\n",
    "padding = -0.1\n",
    "for i in range(nrows):\n",
    "    for j in range(ncols):\n",
    "        for k in np.unique(vd_idxs):\n",
    "            axs[i,j].scatter(*manifold[vd_idxs==k].T, c=color_cycler[k], s=1, alpha=0.25)\n",
    "        axs[i,j].azim = view_angles[i, j, 0]\n",
    "        axs[i,j].elev = view_angles[i, j, 1]\n",
    "        axs[i,j].axis(\"off\")\n",
    "        axs[i,j].set_position([*grid[i,j], 1/ncols-padding, 1/nrows-padding])\n",
    "        axs[i,j].patch.set_alpha(0)\n"
   ]
  },
  {
   "cell_type": "code",
   "execution_count": 16,
   "id": "dbfe3037",
   "metadata": {},
   "outputs": [
    {
     "name": "stdout",
     "output_type": "stream",
     "text": [
      "15 30 0\n"
     ]
    },
    {
     "data": {
      "image/png": "[encoded data removed]",
      "text/plain": [
       "<Figure size 114.57x85.9278 with 1 Axes>"
      ]
     },
     "metadata": {
      "needs_background": "light"
     },
     "output_type": "display_data"
    }
   ],
   "source": [
    "# ONE TORUS\n",
    "\n",
    "figsize = set_size(fraction=(1/3,1/4),mode='square')\n",
    "nrows, ncols = 2, 2\n",
    "fig,ax = plt.subplots(subplot_kw={\"projection\": \"3d\"},figsize=figsize)#, dpi=300)\n",
    "if False:\n",
    "    elev=np.random.uniform(0,90)\n",
    "    azim=np.random.uniform(0,180)\n",
    "    roll=np.random.uniform(0,360)\n",
    "#elev, azim, roll = 29.36979484777273, 135.64536544454165, 92.62591251255421\n",
    "elev, azim, roll = 15,30,0\n",
    "ax.view_init(elev=elev, azim=azim, roll=roll)\n",
    "print(ax.elev, ax.azim, ax.roll)\n",
    "\n",
    "for k in np.unique(vd_idxs):\n",
    "    ax.scatter(*manifold[vd_idxs==k].T, c=color_cycler[k], s=1, alpha=0.25)\n",
    "ax.axis(\"off\")\n",
    "ax.axis(\"equal\")\n",
    "# set axes limits to fraction of the data range\n",
    "fraction = -0.15\n",
    "ax.set_xlim(manifold[:,0].min() - fraction * (manifold[:,0].max() - manifold[:,0].min()), manifold[:,0].max() + fraction * (manifold[:,0].max() - manifold[:,0].min()))\n",
    "ax.set_ylim(manifold[:,1].min() - fraction * (manifold[:,1].max() - manifold[:,1].min()), manifold[:,1].max() + fraction * (manifold[:,1].max() - manifold[:,1].min()))\n",
    "ax.set_zlim(manifold[:,2].min() - fraction * (manifold[:,2].max() - manifold[:,2].min()), manifold[:,2].max() + fraction * (manifold[:,2].max() - manifold[:,2].min()))\n",
    "\n",
    "# set axes to limits of data range\n",
    "#ax.set_xlim(manifold[:,0].min(), manifold[:,0].max())\n",
    "#ax.set_ylim(manifold[:,1].min(), manifold[:,1].max())\n",
    "#ax.set_zlim(manifold[:,2].min(), manifold[:,2].max())\n",
    "padding = 0.0\n",
    "ax.set_position([-padding, -padding, 1+padding, 1+padding])\n",
    "ax.patch.set_alpha(0)\n",
    "\n",
    "if savefigs:\n",
    "    fig.savefig('../results/P3-CI_torus')"
   ]
  },
  {
   "cell_type": "code",
   "execution_count": 17,
   "id": "b9a774cf",
   "metadata": {},
   "outputs": [],
   "source": [
    "def max_birth_max_death(dgmss):\n",
    "    flat_dgmss = []\n",
    "    for dgms in dgmss:\n",
    "        flat_dgmss += dgms\n",
    "    flat_x_dgms = np.concatenate([dgms[i][:,0] for i in range(len(dgms))])\n",
    "    flat_y_dgms = np.concatenate([dgms[i][:,1] for i in range(len(dgms))])\n",
    "    return np.max(flat_x_dgms), np.max(np.ma.masked_invalid(flat_y_dgms))\n",
    "\n",
    "def ripsers(axs, dgmss,xmargin=1.3,ymargin=1.2):\n",
    "    xmax, ymax = max_birth_max_death(dgmss)\n",
    "    for i in range(len(axs)):\n",
    "        axs[i].plot(np.linspace(0,xmax*xmargin,2),np.linspace(0,xmax*xmargin,2),\n",
    "                    linewidth=0.4,color='grey')#,ls=':')    \n",
    "        axs[i].set_xlim([-0.1,xmax*xmargin])\n",
    "        axs[i].set_ylim([-0.1,ymax*ymargin])\n",
    "        axs[i].set_xticks([0,round(xmax)])\n",
    "        axs[i].set_yticks([0,round(ymax)])\n",
    "        axs[i].xaxis.tick_top()\n",
    "        axs[i].spines['top'].set_visible(True)\n",
    "        axs[i].spines['bottom'].set_visible(False)\n",
    "        axs[i].patch.set_alpha(0)\n",
    "        if i > 0:\n",
    "            #axs[i].set_yticks([])\n",
    "            axs[i].axis('off')\n",
    "        for b,cocycle in enumerate(dgmss[i]):\n",
    "            if b==0:\n",
    "                cocycle = np.append(cocycle,np.array([[0,ymax*(ymargin-0.05)]]),axis=0)\n",
    "            axs[i].scatter(*cocycle.T,s=5)"
   ]
  },
  {
   "cell_type": "code",
   "execution_count": 18,
   "id": "0c8c5317",
   "metadata": {},
   "outputs": [
    {
     "data": {
      "image/png": "[encoded data removed]",
      "text/plain": [
       "<Figure size 114.57x85.9278 with 1 Axes>"
      ]
     },
     "metadata": {
      "needs_background": "light"
     },
     "output_type": "display_data"
    }
   ],
   "source": [
    "dgms = ripser(activity,maxdim=2,n_perm=150)['dgms']\n",
    "\n",
    "fig,ax = plt.subplots(figsize=set_size(fraction=(1/3,1/4),mode='square'))#,dpi=300)\n",
    "ripsers([ax],[dgms])\n",
    "ax.set_position([0.1,0,1,0.84]) # perfect padding for including ticks and otherwise filling box\n",
    "\n",
    "if True:\n",
    "    fig.savefig('../results/P3-CI_ripsers')"
   ]
  },
  {
   "cell_type": "code",
   "execution_count": null,
   "id": "16967a4d",
   "metadata": {},
   "outputs": [],
   "source": []
  }
 ],
 "metadata": {
  "kernelspec": {
   "display_name": "ml",
   "language": "python",
   "name": "python3"
  },
  "language_info": {
   "codemirror_mode": {
    "name": "ipython",
    "version": 3
   },
   "file_extension": ".py",
   "mimetype": "text/x-python",
   "name": "python",
   "nbconvert_exporter": "python",
   "pygments_lexer": "ipython3",
   "version": "3.9.9"
  }
 },
 "nbformat": 4,
 "nbformat_minor": 5
}
