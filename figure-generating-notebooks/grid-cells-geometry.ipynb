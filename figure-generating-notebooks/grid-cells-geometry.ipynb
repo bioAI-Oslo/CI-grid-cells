{
 "cells": [
  {
   "cell_type": "code",
   "execution_count": 1,
   "id": "8b1ede01-2b9a-4f72-b9f9-2c9bb291c036",
   "metadata": {},
   "outputs": [],
   "source": [
    "#%load_ext autoreload\n",
    "#%autoreload 2"
   ]
  },
  {
   "cell_type": "code",
   "execution_count": 2,
   "id": "1dbab2e3-e238-414a-8383-c4e65d034052",
   "metadata": {},
   "outputs": [],
   "source": [
    "import numpy as np\n",
    "import matplotlib.pyplot as plt\n",
    "from mpl_toolkits.axes_grid1.inset_locator import inset_axes\n",
    "import seaborn as sns # get more colormaps\n",
    "plt.style.use(\"bioAI.mplstyle\")\n",
    "import torch\n",
    "import scipy\n",
    "import umap\n",
    "from ripser import ripser\n",
    "from persim import plot_diagrams\n",
    "import tqdm\n",
    "\n",
    "import sys\n",
    "sys.path.append('../')\n",
    "from methods import Hexagon, HexagonalGCs\n",
    "from plotting_functions import set_size, project_cmap, minimal_ticks, scatter3d"
   ]
  },
  {
   "cell_type": "code",
   "execution_count": 3,
   "id": "56e3d302-34b9-4ad4-9970-1838792561fc",
   "metadata": {},
   "outputs": [],
   "source": [
    "color_cycler = plt.rcParams['axes.prop_cycle'].by_key()['color']\n",
    "#cmap = project_cmap()"
   ]
  },
  {
   "cell_type": "code",
   "execution_count": 4,
   "id": "45bceb4d-a4c3-4a2b-bf53-091400fcf854",
   "metadata": {},
   "outputs": [],
   "source": [
    "model = HexagonalGCs(ncells=3)\n",
    "res = 100\n",
    "rs = model.unit_cell.mesh(res)"
   ]
  },
  {
   "cell_type": "code",
   "execution_count": 5,
   "id": "53469e33-209d-4421-863e-1003fa2d1861",
   "metadata": {},
   "outputs": [],
   "source": [
    "def max_birth_max_death(dgmss):\n",
    "    flat_dgmss = []\n",
    "    for dgms in dgmss:\n",
    "        flat_dgmss += dgms\n",
    "    flat_x_dgms = np.concatenate([dgms[i][:,0] for i in range(len(dgms))])\n",
    "    flat_y_dgms = np.concatenate([dgms[i][:,1] for i in range(len(dgms))])\n",
    "    return np.max(flat_x_dgms), np.max(np.ma.masked_invalid(flat_y_dgms))"
   ]
  },
  {
   "cell_type": "code",
   "execution_count": 6,
   "id": "7f2c579a-1d92-4cf1-b687-c494dd084fe6",
   "metadata": {},
   "outputs": [
    {
     "name": "stderr",
     "output_type": "stream",
     "text": [
      "100%|█████████████████████████████████████████████| 4/4 [00:01<00:00,  3.18it/s]\n"
     ]
    }
   ],
   "source": [
    "phases = np.array([[-0.4,0],[0.2,0.2],[0.2,-0.3]])\n",
    "phasess = [phases[:1], phases[:2], phases, model.unit_cell.sample(15,seed=2)]\n",
    "dgmss = []\n",
    "#manifolds = []\n",
    "activities = []\n",
    "colors = []\n",
    "xmax,ymax = None,None\n",
    "for phases in tqdm.tqdm(phasess):\n",
    "    model.set_phases(phases)\n",
    "    activity = model(torch.tensor(rs,dtype=torch.float32)).detach().numpy()\n",
    "    #c = activity @ activity[0]\n",
    "    dgms = ripser(activity,maxdim=2,n_perm=150)['dgms']\n",
    "    dgmss.append(dgms)\n",
    "    activities.append(activity)\n",
    "    colors.append(activity @ activity[0])\n",
    "    \n",
    "projection = umap.UMAP(n_neighbors=25,n_components=3)\n",
    "manifold = projection.fit_transform(activity) # of 15d\n",
    "#manifolds.append(manifold)"
   ]
  },
  {
   "cell_type": "code",
   "execution_count": 28,
   "id": "5b8a6baa-12cf-4662-9e58-ae7ffa148551",
   "metadata": {},
   "outputs": [],
   "source": [
    "def ripsers(axs, dgmss,xmargin=1.3,ymargin=1.2):\n",
    "    xmax, ymax = max_birth_max_death(dgmss)\n",
    "    for i in range(len(axs)):\n",
    "        axs[i].plot(np.linspace(0,xmax*xmargin,2),np.linspace(0,xmax*xmargin,2),linewidth=0.25,color='grey',ls=':')    \n",
    "        axs[i].set_xlim([-0.1,xmax*xmargin])\n",
    "        axs[i].set_ylim([-0.1,ymax*ymargin])\n",
    "        axs[i].set_xticks([0,round(xmax)])\n",
    "        axs[i].set_yticks([0,round(ymax)])\n",
    "        axs[i].xaxis.tick_top()\n",
    "        axs[i].spines['top'].set_visible(True)\n",
    "        axs[i].spines['bottom'].set_visible(False)\n",
    "        axs[i].patch.set_alpha(0)\n",
    "        for b,cocycle in enumerate(dgmss[i]):\n",
    "            if b==0:\n",
    "                cocycle = np.append(cocycle,np.array([[0,ymax*(ymargin-0.05)]]),axis=0)\n",
    "            axs[i].scatter(*cocycle.T)\n",
    "\n",
    "# for 1,2,3d dont use umap?\n",
    "def plot_manifolds(axs):\n",
    "    axs[0].scatter(np.zeros(res**2),activities[0][:,0],s=0.01,c=colors[0])\n",
    "    axs[1].scatter(*activities[1].T,s=0.01,c=colors[0])\n",
    "    axs[2].scatter(*activities[2].T,s=0.01,c=colors[0])\n",
    "    axs[-1].scatter(*manifold.T,s=0.01,c=colors[0])\n",
    "    [ax.axis('off') for ax in axs]\n",
    "    [ax.patch.set_alpha(0) for ax in axs]\n",
    "    return axs\n",
    "\n",
    "def plot_phases(axs):\n",
    "    for i in range(len(axs)):\n",
    "        axs[i].scatter(*phasess[i].T)\n",
    "        model.unit_cell.plot(ax=axs[i],color='black',linewidth=0.5)\n",
    "        [ax.axis('off') for ax in axs]\n",
    "        [ax.patch.set_alpha(0) for ax in axs]\n",
    "    return axs"
   ]
  },
  {
   "cell_type": "code",
   "execution_count": 29,
   "id": "c4ccee05-af42-403a-a682-b096ced5cfb8",
   "metadata": {},
   "outputs": [],
   "source": [
    "def fix_axis(dgms,ax,wspace=0.1,maxval_fraction=0.2):\n",
    "    dgms[0][-1,1] = dgms[0][-2,1]\n",
    "    flat_x_dgms = np.concatenate([dgms[i][:,0] for i in range(len(dgms))])\n",
    "    flat_y_dgms = np.concatenate([dgms[i][:,1] for i in range(len(dgms))])\n",
    "    xmin, xmax = np.min(flat_x_dgms), np.max(flat_x_dgms)\n",
    "    ymin, ymax = 0, np.max(flat_y_dgms)\n",
    "    x_wspace = xmax*wspace\n",
    "    return xmin-x_wspace, xmax+x_wspace, ymin, ymax*(1+maxval_fraction)"
   ]
  },
  {
   "cell_type": "code",
   "execution_count": 37,
   "id": "6ddc6af0-7b0d-4420-9d94-3473d4b68e6b",
   "metadata": {},
   "outputs": [
    {
     "data": {
      "image/png": "[encoded data removed]",
      "text/plain": [
       "<Figure size 716.065x179.016 with 4 Axes>"
      ]
     },
     "metadata": {
      "needs_background": "light"
     },
     "output_type": "display_data"
    }
   ],
   "source": [
    "# OBS - CHANGE SUCH THAT RIPSER IS PLOTTED FIRST AND MANIFOLD IS INSET (less whitespace)\n",
    "\n",
    "# plotting inits\n",
    "figsize = set_size(fraction=(1,1/4),mode='square')\n",
    "fig,axs = plt.subplots(ncols=4,figsize=figsize,dpi=150)#,subplot_kw={\"projection\": \"3d\"})\n",
    "#plt.subplots_adjust(top=1,bottom=0,right=1,left=0,wspace=-0.6,hspace=-0)\n",
    "\n",
    "#axins = [inset_axes(axs[i], width=\"20%\", height=\"20%\", loc=2, projection='3d') for i in range(len(axs))]\n",
    "axins = [ax.inset_axes(bounds=(0.45,0.1,0.7,0.7),projection='3d') for ax in axs]\n",
    "axins2 = [ax.inset_axes(bounds=(0.3,0,0.3,0.3)) for ax in axs]\n",
    "\n",
    "ripsers(axs,dgmss)\n",
    "plot_manifolds(axins);\n",
    "plot_phases(axins2);\n",
    "#fig.savefig('./test.png',bbox_inches='tight')"
   ]
  },
  {
   "cell_type": "code",
   "execution_count": 24,
   "id": "c5604bfb-1124-48a6-acd6-f1ba290a6bb3",
   "metadata": {},
   "outputs": [
    {
     "data": {
      "text/plain": [
       "<matplotlib.collections.PathCollection at 0x7f92de5bdfd0>"
      ]
     },
     "execution_count": 24,
     "metadata": {},
     "output_type": "execute_result"
    },
    {
     "data": {
      "image/png": "[encoded data removed]",
      "text/plain": [
       "<Figure size 343.711x85.9278 with 4 Axes>"
      ]
     },
     "metadata": {
      "needs_background": "light"
     },
     "output_type": "display_data"
    }
   ],
   "source": [
    "# plotting inits\n",
    "figsize = set_size(fraction=(1,1/4),mode='square')\n",
    "fig,axs = plt.subplots(ncols=4,figsize=figsize)\n",
    "[ax.axis('off') for ax in axs];\n",
    "plt.subplots_adjust(wspace=0.06,hspace=0)\n",
    "\n",
    "hex_mesh = model.unit_cell.mesh(100)\n",
    "activity = model(torch.tensor(hex_mesh,dtype=torch.float32)).detach().numpy()\n",
    "c = activity[:,:2] @ activity[0,:2]\n",
    "c -= np.min(c)\n",
    "c /= np.max(c)\n",
    "\n",
    "axs[0].scatter(*activity[:,:2].T,s=0.02,c=c)"
   ]
  },
  {
   "cell_type": "code",
   "execution_count": 11,
   "id": "75485bdd-1553-403d-9878-9df2f760737f",
   "metadata": {},
   "outputs": [
    {
     "ename": "TypeError",
     "evalue": "scatter() got multiple values for argument 'c'",
     "output_type": "error",
     "traceback": [
      "\u001b[0;31m---------------------------------------------------------------------------\u001b[0m",
      "\u001b[0;31mTypeError\u001b[0m                                 Traceback (most recent call last)",
      "Input \u001b[0;32mIn [11]\u001b[0m, in \u001b[0;36m<cell line: 13>\u001b[0;34m()\u001b[0m\n\u001b[1;32m     10\u001b[0m c \u001b[38;5;241m-\u001b[39m\u001b[38;5;241m=\u001b[39m np\u001b[38;5;241m.\u001b[39mmin(c)\n\u001b[1;32m     11\u001b[0m c \u001b[38;5;241m/\u001b[39m\u001b[38;5;241m=\u001b[39m np\u001b[38;5;241m.\u001b[39mmax(c)\n\u001b[0;32m---> 13\u001b[0m \u001b[43maxs\u001b[49m\u001b[43m[\u001b[49m\u001b[38;5;241;43m0\u001b[39;49m\u001b[43m]\u001b[49m\u001b[38;5;241;43m.\u001b[39;49m\u001b[43mscatter\u001b[49m\u001b[43m(\u001b[49m\u001b[38;5;241;43m*\u001b[39;49m\u001b[43mactivity\u001b[49m\u001b[38;5;241;43m.\u001b[39;49m\u001b[43mT\u001b[49m\u001b[43m,\u001b[49m\u001b[43mc\u001b[49m\u001b[38;5;241;43m=\u001b[39;49m\u001b[43mc\u001b[49m\u001b[43m)\u001b[49m\n",
      "File \u001b[0;32m~/anaconda3/envs/ml/lib/python3.9/site-packages/matplotlib/__init__.py:1442\u001b[0m, in \u001b[0;36m_preprocess_data.<locals>.inner\u001b[0;34m(ax, data, *args, **kwargs)\u001b[0m\n\u001b[1;32m   1439\u001b[0m \u001b[38;5;129m@functools\u001b[39m\u001b[38;5;241m.\u001b[39mwraps(func)\n\u001b[1;32m   1440\u001b[0m \u001b[38;5;28;01mdef\u001b[39;00m \u001b[38;5;21minner\u001b[39m(ax, \u001b[38;5;241m*\u001b[39margs, data\u001b[38;5;241m=\u001b[39m\u001b[38;5;28;01mNone\u001b[39;00m, \u001b[38;5;241m*\u001b[39m\u001b[38;5;241m*\u001b[39mkwargs):\n\u001b[1;32m   1441\u001b[0m     \u001b[38;5;28;01mif\u001b[39;00m data \u001b[38;5;129;01mis\u001b[39;00m \u001b[38;5;28;01mNone\u001b[39;00m:\n\u001b[0;32m-> 1442\u001b[0m         \u001b[38;5;28;01mreturn\u001b[39;00m \u001b[43mfunc\u001b[49m\u001b[43m(\u001b[49m\u001b[43max\u001b[49m\u001b[43m,\u001b[49m\u001b[43m \u001b[49m\u001b[38;5;241;43m*\u001b[39;49m\u001b[38;5;28;43mmap\u001b[39;49m\u001b[43m(\u001b[49m\u001b[43msanitize_sequence\u001b[49m\u001b[43m,\u001b[49m\u001b[43m \u001b[49m\u001b[43margs\u001b[49m\u001b[43m)\u001b[49m\u001b[43m,\u001b[49m\u001b[43m \u001b[49m\u001b[38;5;241;43m*\u001b[39;49m\u001b[38;5;241;43m*\u001b[39;49m\u001b[43mkwargs\u001b[49m\u001b[43m)\u001b[49m\n\u001b[1;32m   1444\u001b[0m     bound \u001b[38;5;241m=\u001b[39m new_sig\u001b[38;5;241m.\u001b[39mbind(ax, \u001b[38;5;241m*\u001b[39margs, \u001b[38;5;241m*\u001b[39m\u001b[38;5;241m*\u001b[39mkwargs)\n\u001b[1;32m   1445\u001b[0m     auto_label \u001b[38;5;241m=\u001b[39m (bound\u001b[38;5;241m.\u001b[39marguments\u001b[38;5;241m.\u001b[39mget(label_namer)\n\u001b[1;32m   1446\u001b[0m                   \u001b[38;5;129;01mor\u001b[39;00m bound\u001b[38;5;241m.\u001b[39mkwargs\u001b[38;5;241m.\u001b[39mget(label_namer))\n",
      "\u001b[0;31mTypeError\u001b[0m: scatter() got multiple values for argument 'c'"
     ]
    },
    {
     "data": {
      "image/png": "[encoded data removed]",
      "text/plain": [
       "<Figure size 343.711x85.9278 with 4 Axes>"
      ]
     },
     "metadata": {
      "needs_background": "light"
     },
     "output_type": "display_data"
    }
   ],
   "source": [
    "# plotting inits\n",
    "figsize = set_size(fraction=(1,1/4),mode='square')\n",
    "fig,axs = plt.subplots(ncols=4,figsize=figsize,subplot_kw={\"projection\": \"3d\"})\n",
    "[ax.axis('off') for ax in axs];\n",
    "plt.subplots_adjust(wspace=0,hspace=0)\n",
    "\n",
    "hex_mesh = model.unit_cell.mesh(200)\n",
    "activity = model(torch.tensor(hex_mesh,dtype=torch.float32)).detach().numpy()\n",
    "c = activity @ activity[0]\n",
    "c -= np.min(c)\n",
    "c /= np.max(c)\n",
    "\n",
    "axs[0].scatter(*activity.T,c=c);"
   ]
  }
 ],
 "metadata": {
  "kernelspec": {
   "display_name": "Python [conda env:ml]",
   "language": "python",
   "name": "conda-env-ml-py"
  },
  "language_info": {
   "codemirror_mode": {
    "name": "ipython",
    "version": 3
   },
   "file_extension": ".py",
   "mimetype": "text/x-python",
   "name": "python",
   "nbconvert_exporter": "python",
   "pygments_lexer": "ipython3",
   "version": "3.9.9"
  }
 },
 "nbformat": 4,
 "nbformat_minor": 5
}
