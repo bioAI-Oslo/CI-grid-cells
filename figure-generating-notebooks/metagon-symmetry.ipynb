{
 "cells": [
  {
   "cell_type": "code",
   "execution_count": 1,
   "id": "8903231c-3c64-41d7-8b84-c8ae23c24bb5",
   "metadata": {},
   "outputs": [],
   "source": [
    "%load_ext autoreload\n",
    "%autoreload 2"
   ]
  },
  {
   "cell_type": "code",
   "execution_count": 2,
   "id": "1dbab2e3-e238-414a-8383-c4e65d034052",
   "metadata": {},
   "outputs": [],
   "source": [
    "import numpy as np\n",
    "import matplotlib\n",
    "import matplotlib.pyplot as plt\n",
    "from mpl_toolkits.axes_grid1 import make_axes_locatable\n",
    "plt.style.use(\"bioAI.mplstyle\")\n",
    "import torch\n",
    "import tqdm\n",
    "import scipy\n",
    "import umap\n",
    "from ripser import ripser\n",
    "from persim import plot_diagrams\n",
    "from scipy.spatial import Voronoi, voronoi_plot_2d\n",
    "\n",
    "import sys\n",
    "sys.path.append('../')\n",
    "from methods import Hexagon, HexagonalGCs, permutation_test\n",
    "from models import JacobianCI, JitterCI\n",
    "from plotting_functions import scatter3d, set_size, colorbar_axis\n",
    "from utils import rotation_matrix"
   ]
  },
  {
   "cell_type": "code",
   "execution_count": 3,
   "id": "d692d57f",
   "metadata": {},
   "outputs": [],
   "source": [
    "color_cycler = plt.rcParams['axes.prop_cycle'].by_key()['color']\n",
    "savefigs = False\n",
    "dpi=150"
   ]
  },
  {
   "cell_type": "code",
   "execution_count": 4,
   "id": "33fddbb6",
   "metadata": {},
   "outputs": [],
   "source": [
    "def train_model(model):\n",
    "    # Train model\n",
    "    nsamples_space = 2**8\n",
    "    loss_history = []\n",
    "    metric_history = []\n",
    "    phases_history = [model.phases.clone().detach().numpy()]\n",
    "    G_history = []\n",
    "    for epoch in tqdm.trange(5000):\n",
    "        rs = model.unit_cell.sample(nsamples_space)\n",
    "        rs = torch.tensor(rs,dtype=dtype)\n",
    "        loss = model.train_step(rs)\n",
    "        metric = model.CI_metric(r=rs).item()\n",
    "        G_history.append(model.metric_tensor(model.jacobian(rs)).detach().numpy())\n",
    "        loss_history.append(loss)\n",
    "        phases_history.append(model.phases.clone().detach().numpy())\n",
    "        metric_history.append(metric)\n",
    "    phases_history[-1] = model.unit_cell.wrap(phases_history[-1])\n",
    "    loss_history = np.array(loss_history)\n",
    "    metric_history = np.array(metric_history)\n",
    "    phases_history = np.array(phases_history)\n",
    "    G_history = np.array(G_history)\n",
    "    return loss_history, phases_history, metric_history, G_history\n",
    "\n",
    "def hex_radius(phases, model):\n",
    "    cdists = np.stack([model.unit_cell.geodesic(phases[i:i+1],phases) for i in range(len(phases))])\n",
    "    off_diag_mask = ~np.eye(cdists.shape[0],dtype=bool)\n",
    "    return np.mean(cdists[off_diag_mask]), np.std(cdists[off_diag_mask])\n",
    "\n",
    "def hex_orientation(phases, model, degrees=True):\n",
    "    # mirror x and y since arctan2 takes y as first argument and x as second\n",
    "    angles = np.stack([np.arctan2(*(model.unit_cell.wrap(phases - phases[i]))[:,::-1].T) \n",
    "                       for i in range(len(phases))])\n",
    "    # modulo 60 degrees\n",
    "    angles = angles % (np.pi/3)\n",
    "    angles = angles * 180/np.pi if degrees else angles\n",
    "    off_diag_mask = ~np.eye(phases.shape[0],dtype=bool)\n",
    "    return np.mean(angles[off_diag_mask]), np.std(angles[off_diag_mask]) "
   ]
  },
  {
   "cell_type": "code",
   "execution_count": 5,
   "id": "ec2dd814",
   "metadata": {},
   "outputs": [
    {
     "name": "stderr",
     "output_type": "stream",
     "text": [
      "100%|██████████| 5000/5000 [00:11<00:00, 445.00it/s]\n"
     ]
    }
   ],
   "source": [
    "# load trained model\n",
    "dtype = torch.float32\n",
    "# choose seed such that metagon is contained in zero-centered unit cell\n",
    "model = JacobianCI(ncells=7,dtype=dtype,lr=1e-3, shift=0, p_magnitude=0, seed=3)\n",
    "loss_history, phases_history, metric_history, G_history = train_model(model)"
   ]
  },
  {
   "cell_type": "code",
   "execution_count": 6,
   "id": "1b5fba7a",
   "metadata": {},
   "outputs": [
    {
     "data": {
      "text/plain": [
       "[<matplotlib.lines.Line2D at 0x7f7a7c840e80>]"
      ]
     },
     "execution_count": 6,
     "metadata": {},
     "output_type": "execute_result"
    },
    {
     "data": {
      "image/png": "[encoded data removed]",
      "text/plain": [
       "<Figure size 238.688x238.688 with 1 Axes>"
      ]
     },
     "metadata": {},
     "output_type": "display_data"
    }
   ],
   "source": [
    "plt.semilogy(loss_history)"
   ]
  },
  {
   "cell_type": "code",
   "execution_count": 7,
   "id": "efd88ead",
   "metadata": {},
   "outputs": [
    {
     "data": {
      "text/plain": [
       "10.893394649130874"
      ]
     },
     "execution_count": 7,
     "metadata": {},
     "output_type": "execute_result"
    }
   ],
   "source": [
    "phases_history_short = phases_history[::25]\n",
    "phases_history_short = np.array([model.unit_cell.wrap(phases_history_short[i]) for i in range(len(phases_history_short))])\n",
    "\n",
    "radius, _ = hex_radius(phases_history[-1],model)\n",
    "orientation, _ = hex_orientation(phases_history[-1],model)\n",
    "center = np.mean(phases_history[-1],axis=0)\n",
    "metagon = Hexagon(radius, orientation, center)\n",
    "orientation"
   ]
  },
  {
   "cell_type": "code",
   "execution_count": 8,
   "id": "3c3f93fd-f3ba-49ce-b6b1-0e829904f9b2",
   "metadata": {},
   "outputs": [
    {
     "data": {
      "image/png": "[encoded data removed]",
      "text/plain": [
       "<Figure size 238.688x179.016 with 1 Axes>"
      ]
     },
     "metadata": {},
     "output_type": "display_data"
    }
   ],
   "source": [
    "figsize = set_size(fraction=(1/3,1/4),mode='square')\n",
    "fig, ax = plt.subplots(figsize=figsize)#,dpi=300)\n",
    "\n",
    "N = len(phases_history_short)\n",
    "[ax.scatter(*phases_history_short[i].T,color='black',alpha=(i+0.7)/(N+0.7)) for i in range(N)]\n",
    "ax.scatter(*phases_history[-1].T)\n",
    "model.unit_cell.plot(fig,ax,color=color_cycler[0])\n",
    "metagon.plot(fig,ax,color=color_cycler[1])\n",
    "\n",
    "ax.axis('off')\n",
    "ax.axis('equal')\n",
    "#padding = 0.0\n",
    "#ax.set_position([-padding, -padding, 1+padding, 1+padding])\n",
    "fig.tight_layout(pad=0.35, h_pad=0, w_pad=0)\n",
    "\n",
    "if savefigs:\n",
    "    fig.savefig('../results/P3-optimal-7phases')"
   ]
  },
  {
   "cell_type": "code",
   "execution_count": 86,
   "id": "e356a181",
   "metadata": {},
   "outputs": [
    {
     "name": "stdout",
     "output_type": "stream",
     "text": [
      "-3.5762787e-07 4.7683716e-07\n",
      "-6.6161157e-09 9.883915e-08\n"
     ]
    }
   ],
   "source": [
    "t_mesh = torch.tensor(model.unit_cell.mesh(100),dtype=torch.float32)\n",
    "activity = model(t_mesh).detach().numpy()\n",
    "dists = np.log(np.sum(activity**2,axis=-1))\n",
    "dists = dists - np.mean(dists) # shift to zero: basically display residual distances to minimum\n",
    "print(np.min(dists),np.max(dists))\n",
    "print(np.mean(dists),np.std(dists))"
   ]
  },
  {
   "cell_type": "code",
   "execution_count": 164,
   "id": "dbbc9bd4",
   "metadata": {},
   "outputs": [
    {
     "name": "stdout",
     "output_type": "stream",
     "text": [
      "1.1385499 1.1385504\n",
      "1.13855 9.9965355e-08\n"
     ]
    }
   ],
   "source": [
    "t_mesh = torch.tensor(model.unit_cell.mesh(100),dtype=torch.float32)\n",
    "activity = model(t_mesh).detach().numpy()\n",
    "dists = np.linalg.norm(activity, axis=-1)#np.sum(activity**2,axis=-1)\n",
    "#dists = dists - np.mean(dists) # shift to zero: basically display residual distances to minimum\n",
    "print(np.min(dists),np.max(dists))\n",
    "print(np.mean(dists),np.std(dists))"
   ]
  },
  {
   "cell_type": "code",
   "execution_count": 174,
   "id": "d25085a6",
   "metadata": {},
   "outputs": [
    {
     "data": {
      "image/png": "[encoded data removed]",
      "text/plain": [
       "<Figure size 179.016x179.016 with 2 Axes>"
      ]
     },
     "metadata": {},
     "output_type": "display_data"
    }
   ],
   "source": [
    "fig, ax = plt.subplots(figsize=set_size(fraction=(1/4,1/4),mode='square'))\n",
    "\n",
    "model.unit_cell.plot(fig,ax,color='black')\n",
    "im = ax.scatter(*t_mesh.T,c=dists, vmin=0, vmax=np.sqrt(7))\n",
    "ax.axis('equal')\n",
    "ax.axis('off')\n",
    "cbar = plt.colorbar(im, ax=ax, fraction=0.039, pad=0)\n",
    "#x, y = cbar.ax.yaxis.get_offset_text().get_position()\n",
    "#cbar.ax.yaxis.get_offset_text().set_position((x+2, y))\n",
    "ax.set_title(r'$\\|$' + 'activity' + r'$\\|$', fontsize='small', pad=0)\n",
    "fig.tight_layout(pad=0.35, w_pad=0, h_pad=0)\n",
    "#ax.set_title('$\\| \\underline{g} \\|$', fontsize='small')\n",
    "#ax.set_title('$\\\\| \\\\underline{g} \\\\|$', fontsize='small')\n",
    "if savefigs:\n",
    "    fig.savefig('../results/P3-activity-norm')"
   ]
  },
  {
   "cell_type": "code",
   "execution_count": 187,
   "id": "81647483",
   "metadata": {},
   "outputs": [
    {
     "data": {
      "text/plain": [
       "Parameter containing:\n",
       "tensor(153.5272, requires_grad=True)"
      ]
     },
     "execution_count": 187,
     "metadata": {},
     "output_type": "execute_result"
    }
   ],
   "source": [
    "import copy \n",
    "model2 = copy.deepcopy(model)\n",
    "\n",
    "random_metagons = model2.phases.detach().numpy()[:,None] + metagon.sample(15)[None]\n",
    "random_metagons = random_metagons.reshape(-1,2)\n",
    "random_metagons = model2.unit_cell.wrap(random_metagons)\n",
    "model2.set_phases(random_metagons)\n",
    "model2.set_scale() # reset the CI scale now that there are more neurons in the module"
   ]
  },
  {
   "cell_type": "code",
   "execution_count": 189,
   "id": "64825741",
   "metadata": {},
   "outputs": [
    {
     "data": {
      "image/png": "[encoded data removed]",
      "text/plain": [
       "<Figure size 238.688x179.016 with 1 Axes>"
      ]
     },
     "metadata": {},
     "output_type": "display_data"
    }
   ],
   "source": [
    "fig, ax = plt.subplots(figsize=set_size(fraction=(1/3,1/4),mode='square'))\n",
    "# KDE\n",
    "kde, mesh = model2.phase_kde(bw_method=0.2)[:2]\n",
    "ax.scatter(*mesh.T,c=kde)\n",
    "ax.set_title(np.around(model2.grid_score(bw_method=0.2),2),fontsize='small')\n",
    "\n",
    "#model.unit_cell.plot(fig,ax,color='black')\n",
    "#metagon.plot(fig,ax,color=color_cycler[1])\n",
    "ax.scatter(*random_metagons.T, color='grey')\n",
    "ax.axis('off')\n",
    "ax.axis('equal')\n",
    "fig.tight_layout(pad=0.35, w_pad=0, h_pad=0)\n",
    "if savefigs:\n",
    "    fig.savefig('../results/P3-metagon-kde')"
   ]
  },
  {
   "cell_type": "code",
   "execution_count": 114,
   "id": "5a02591e",
   "metadata": {},
   "outputs": [
    {
     "data": {
      "text/plain": [
       "(tensor(3.2675e-09, grad_fn=<AddBackward0>),\n",
       " tensor(7.1337e-12, grad_fn=<AddBackward0>))"
      ]
     },
     "execution_count": 114,
     "metadata": {},
     "output_type": "execute_result"
    }
   ],
   "source": [
    "mesh = model.unit_cell.mesh(100)\n",
    "model2.CI_metric(r=mesh), model.CI_metric(r=mesh), "
   ]
  },
  {
   "cell_type": "code",
   "execution_count": 68,
   "id": "69171015",
   "metadata": {},
   "outputs": [
    {
     "data": {
      "text/plain": [
       "(7.103386889112384e-12, 1.1493581260346719e-11)"
      ]
     },
     "execution_count": 68,
     "metadata": {},
     "output_type": "execute_result"
    }
   ],
   "source": [
    "model.loss_fn(t_mesh).item(), model2.loss_fn(t_mesh).item()"
   ]
  },
  {
   "cell_type": "code",
   "execution_count": 71,
   "id": "ea483264",
   "metadata": {},
   "outputs": [
    {
     "data": {
      "text/plain": [
       "1.4206773778224768e-11"
      ]
     },
     "execution_count": 71,
     "metadata": {},
     "output_type": "execute_result"
    }
   ],
   "source": [
    "7.103386889112384e-12 * 2"
   ]
  },
  {
   "cell_type": "code",
   "execution_count": 76,
   "id": "c3b8d1fc",
   "metadata": {},
   "outputs": [],
   "source": [
    "X = np.random.uniform(size=(4,4))"
   ]
  },
  {
   "cell_type": "code",
   "execution_count": 77,
   "id": "7b5eb1b1",
   "metadata": {},
   "outputs": [
    {
     "data": {
      "text/plain": [
       "array([[1.4904574 , 0.89800692, 1.18566498, 0.68468656],\n",
       "       [0.89800692, 0.69694731, 0.78458974, 0.38025262],\n",
       "       [1.18566498, 0.78458974, 1.58160607, 0.94994998],\n",
       "       [0.68468656, 0.38025262, 0.94994998, 0.78249508]])"
      ]
     },
     "execution_count": 77,
     "metadata": {},
     "output_type": "execute_result"
    }
   ],
   "source": [
    "X.T @ X"
   ]
  },
  {
   "cell_type": "code",
   "execution_count": 78,
   "id": "6fa51138",
   "metadata": {},
   "outputs": [
    {
     "data": {
      "text/plain": [
       "array([[1.4904574 , 0.89800692, 1.18566498, 0.68468656],\n",
       "       [0.89800692, 0.69694731, 0.78458974, 0.38025262],\n",
       "       [1.18566498, 0.78458974, 1.58160607, 0.94994998],\n",
       "       [0.68468656, 0.38025262, 0.94994998, 0.78249508]])"
      ]
     },
     "execution_count": 78,
     "metadata": {},
     "output_type": "execute_result"
    }
   ],
   "source": [
    "X[:2].T @ X[:2] + X[2:].T @ X[2:]"
   ]
  },
  {
   "cell_type": "code",
   "execution_count": null,
   "metadata": {},
   "outputs": [],
   "source": []
  }
 ],
 "metadata": {
  "kernelspec": {
   "display_name": "ml",
   "language": "python",
   "name": "python3"
  },
  "language_info": {
   "codemirror_mode": {
    "name": "ipython",
    "version": 3
   },
   "file_extension": ".py",
   "mimetype": "text/x-python",
   "name": "python",
   "nbconvert_exporter": "python",
   "pygments_lexer": "ipython3",
   "version": "3.9.18"
  }
 },
 "nbformat": 4,
 "nbformat_minor": 5
}
