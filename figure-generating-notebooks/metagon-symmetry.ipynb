{
 "cells": [
  {
   "cell_type": "code",
   "execution_count": 1,
   "id": "8903231c-3c64-41d7-8b84-c8ae23c24bb5",
   "metadata": {},
   "outputs": [],
   "source": [
    "%load_ext autoreload\n",
    "%autoreload 2"
   ]
  },
  {
   "cell_type": "code",
   "execution_count": 2,
   "id": "1dbab2e3-e238-414a-8383-c4e65d034052",
   "metadata": {},
   "outputs": [],
   "source": [
    "import numpy as np\n",
    "import matplotlib\n",
    "import matplotlib.pyplot as plt\n",
    "from mpl_toolkits.axes_grid1 import make_axes_locatable\n",
    "plt.style.use(\"bioAI.mplstyle\")\n",
    "import torch\n",
    "import tqdm\n",
    "import scipy\n",
    "import umap\n",
    "from ripser import ripser\n",
    "from persim import plot_diagrams\n",
    "from scipy.spatial import Voronoi, voronoi_plot_2d\n",
    "\n",
    "import sys\n",
    "sys.path.append('../')\n",
    "from methods import Hexagon, HexagonalGCs, permutation_test\n",
    "from models import JacobianCI, JitterCI\n",
    "from plotting_functions import scatter3d, set_size, colorbar_axis\n",
    "from utils import rotation_matrix"
   ]
  },
  {
   "cell_type": "code",
   "execution_count": 3,
   "id": "d692d57f",
   "metadata": {},
   "outputs": [],
   "source": [
    "color_cycler = plt.rcParams['axes.prop_cycle'].by_key()['color']\n",
    "savefigs = False\n",
    "dpi=150"
   ]
  },
  {
   "cell_type": "code",
   "execution_count": 4,
   "id": "33fddbb6",
   "metadata": {},
   "outputs": [],
   "source": [
    "def train_model(model):\n",
    "    # Train model\n",
    "    nsamples_space = 2**8\n",
    "    loss_history = []\n",
    "    metric_history = []\n",
    "    phases_history = [model.phases.clone().detach().numpy()]\n",
    "    G_history = []\n",
    "    for epoch in tqdm.trange(5000):\n",
    "        rs = model.unit_cell.sample(nsamples_space)\n",
    "        rs = torch.tensor(rs,dtype=dtype)\n",
    "        loss = model.train_step(rs)\n",
    "        metric = model.CI_metric(r=rs).item()\n",
    "        G_history.append(model.metric_tensor(model.jacobian(rs)).detach().numpy())\n",
    "        loss_history.append(loss)\n",
    "        phases_history.append(model.phases.clone().detach().numpy())\n",
    "        metric_history.append(metric)\n",
    "    phases_history[-1] = model.unit_cell.wrap(phases_history[-1])\n",
    "    loss_history = np.array(loss_history)\n",
    "    metric_history = np.array(metric_history)\n",
    "    phases_history = np.array(phases_history)\n",
    "    G_history = np.array(G_history)\n",
    "    return loss_history, phases_history, metric_history, G_history\n",
    "\n",
    "def hex_radius(phases, model):\n",
    "    cdists = np.stack([model.unit_cell.geodesic(phases[i:i+1],phases) for i in range(len(phases))])\n",
    "    off_diag_mask = ~np.eye(cdists.shape[0],dtype=bool)\n",
    "    return np.mean(cdists[off_diag_mask]), np.std(cdists[off_diag_mask])\n",
    "\n",
    "def hex_orientation(phases, model, degrees=True):\n",
    "    # mirror x and y since arctan2 takes y as first argument and x as second\n",
    "    angles = np.stack([np.arctan2(*(model.unit_cell.wrap(phases - phases[i]))[:,::-1].T) \n",
    "                       for i in range(len(phases))])\n",
    "    # modulo 60 degrees\n",
    "    angles = angles % (np.pi/3)\n",
    "    angles = angles * 180/np.pi if degrees else angles\n",
    "    off_diag_mask = ~np.eye(phases.shape[0],dtype=bool)\n",
    "    return np.mean(angles[off_diag_mask]), np.std(angles[off_diag_mask]) "
   ]
  },
  {
   "cell_type": "code",
   "execution_count": 5,
   "id": "ec2dd814",
   "metadata": {},
   "outputs": [
    {
     "name": "stderr",
     "output_type": "stream",
     "text": [
      "100%|██████████| 5000/5000 [00:10<00:00, 479.91it/s]\n"
     ]
    }
   ],
   "source": [
    "# load trained model\n",
    "dtype = torch.float32\n",
    "# choose seed such that metagon is contained in zero-centered unit cell\n",
    "model = JacobianCI(ncells=7,dtype=dtype,lr=1e-3, shift=0, p_magnitude=0, seed=3)\n",
    "loss_history, phases_history, metric_history, G_history = train_model(model)"
   ]
  },
  {
   "cell_type": "code",
   "execution_count": 6,
   "id": "1b5fba7a",
   "metadata": {},
   "outputs": [
    {
     "data": {
      "text/plain": [
       "[<matplotlib.lines.Line2D at 0x7f92e1096730>]"
      ]
     },
     "execution_count": 6,
     "metadata": {},
     "output_type": "execute_result"
    },
    {
     "data": {
      "image/png": "[encoded data removed]",
      "text/plain": [
       "<Figure size 238.688x238.688 with 1 Axes>"
      ]
     },
     "metadata": {},
     "output_type": "display_data"
    }
   ],
   "source": [
    "plt.semilogy(loss_history)"
   ]
  },
  {
   "cell_type": "code",
   "execution_count": 47,
   "id": "1f8e1c47",
   "metadata": {},
   "outputs": [
    {
     "data": {
      "text/plain": [
       "array([0.43643574, 0.43643577, 0.43643581, 0.43643577, 0.43643574,\n",
       "       0.43643578])"
      ]
     },
     "execution_count": 47,
     "metadata": {},
     "output_type": "execute_result"
    }
   ],
   "source": [
    "\n",
    "phases = phases_history[-1]\n",
    "sort_idxs = np.argsort(np.linalg.norm(phases,axis=1))\n",
    "np.linalg.norm(phases[sort_idxs][1:] - phases[sort_idxs][0],axis=1)"
   ]
  },
  {
   "cell_type": "code",
   "execution_count": 48,
   "id": "2b22b3e0",
   "metadata": {},
   "outputs": [
    {
     "data": {
      "text/plain": [
       "0.4364357804719848"
      ]
     },
     "execution_count": 48,
     "metadata": {},
     "output_type": "execute_result"
    }
   ],
   "source": [
    "2/np.sqrt(21)"
   ]
  },
  {
   "cell_type": "code",
   "execution_count": 19,
   "id": "efd88ead",
   "metadata": {},
   "outputs": [
    {
     "data": {
      "text/plain": [
       "10.893394649130872"
      ]
     },
     "execution_count": 19,
     "metadata": {},
     "output_type": "execute_result"
    }
   ],
   "source": [
    "phases_history_short = phases_history[::25]\n",
    "phases_history_short = np.array([model.unit_cell.wrap(phases_history_short[i]) for i in range(len(phases_history_short))])\n",
    "\n",
    "radius, _ = hex_radius(phases_history[-1],model)\n",
    "orientation, _ = hex_orientation(phases_history[-1],model)\n",
    "center = np.mean(phases_history[-1],axis=0)\n",
    "metagon = Hexagon(radius, orientation, center)\n",
    "orientation"
   ]
  },
  {
   "cell_type": "code",
   "execution_count": 29,
   "id": "3c3f93fd-f3ba-49ce-b6b1-0e829904f9b2",
   "metadata": {},
   "outputs": [
    {
     "data": {
      "image/png": "[encoded data removed]",
      "text/plain": [
       "<Figure size 238.688x179.016 with 1 Axes>"
      ]
     },
     "metadata": {},
     "output_type": "display_data"
    }
   ],
   "source": [
    "figsize = set_size(fraction=(1/3,1/4),mode='square')\n",
    "fig, ax = plt.subplots(figsize=figsize)#,dpi=300)\n",
    "\n",
    "N = len(phases_history_short)\n",
    "[ax.scatter(*phases_history_short[i].T,color='black',alpha=(i+0.7)/(N+0.7)) for i in range(N)]\n",
    "ax.scatter(*phases_history[-1].T)\n",
    "model.unit_cell.plot(fig,ax,color=color_cycler[0])\n",
    "metagon.plot(fig,ax,color=color_cycler[1])\n",
    "\n",
    "ax.axis('off')\n",
    "ax.axis('equal')\n",
    "#padding = 0.0\n",
    "#ax.set_position([-padding, -padding, 1+padding, 1+padding])\n",
    "fig.tight_layout(pad=0.35, h_pad=0, w_pad=0)\n",
    "\n",
    "if savefigs:\n",
    "    fig.savefig('../results/P3-optimal-7phases')"
   ]
  },
  {
   "cell_type": "code",
   "execution_count": 9,
   "id": "e356a181",
   "metadata": {},
   "outputs": [
    {
     "name": "stdout",
     "output_type": "stream",
     "text": [
      "-4.4703484e-07 3.874302e-07\n",
      "-8.362532e-09 1.0131064e-07\n"
     ]
    }
   ],
   "source": [
    "t_mesh = torch.tensor(model.unit_cell.mesh(100),dtype=torch.float32)\n",
    "activity = model(t_mesh).detach().numpy()\n",
    "dists = np.log(np.sum(activity**2,axis=-1))\n",
    "dists = dists - np.mean(dists) # shift to zero: basically display residual distances to minimum\n",
    "print(np.min(dists),np.max(dists))\n",
    "print(np.mean(dists),np.std(dists))"
   ]
  },
  {
   "cell_type": "code",
   "execution_count": 47,
   "id": "dbbc9bd4",
   "metadata": {},
   "outputs": [
    {
     "name": "stdout",
     "output_type": "stream",
     "text": [
      "1.1385498 1.1385503\n",
      "1.13855 9.973052e-08\n"
     ]
    }
   ],
   "source": [
    "t_mesh = torch.tensor(model.unit_cell.mesh(100),dtype=torch.float32)\n",
    "activity = model(t_mesh).detach().numpy()\n",
    "dists = np.linalg.norm(activity, axis=-1)#np.sum(activity**2,axis=-1)\n",
    "#dists = dists - np.mean(dists) # shift to zero: basically display residual distances to minimum\n",
    "print(np.min(dists),np.max(dists))\n",
    "print(np.mean(dists),np.std(dists))"
   ]
  },
  {
   "cell_type": "code",
   "execution_count": 43,
   "id": "d25085a6",
   "metadata": {},
   "outputs": [
    {
     "data": {
      "image/png": "[encoded data removed]",
      "text/plain": [
       "<Figure size 179.016x179.016 with 2 Axes>"
      ]
     },
     "metadata": {},
     "output_type": "display_data"
    }
   ],
   "source": [
    "fig, ax = plt.subplots(figsize=set_size(fraction=(1/4,1/4),mode='square'))\n",
    "\n",
    "model.unit_cell.plot(fig,ax,color='black')\n",
    "im = ax.scatter(*t_mesh.T,c=dists, vmin=0, vmax=np.sqrt(7))\n",
    "ax.axis('equal')\n",
    "ax.axis('off')\n",
    "cbar = plt.colorbar(im, ax=ax, fraction=0.039, pad=0)\n",
    "#x, y = cbar.ax.yaxis.get_offset_text().get_position()\n",
    "#cbar.ax.yaxis.get_offset_text().set_position((x+2, y))\n",
    "ax.set_title(r'$\\|$' + 'activity' + r'$\\|$', fontsize='small', pad=0)\n",
    "fig.tight_layout(pad=0.35, w_pad=0, h_pad=0)\n",
    "#ax.set_title('$\\| \\underline{g} \\|$', fontsize='small')\n",
    "#ax.set_title('$\\\\| \\\\underline{g} \\\\|$', fontsize='small')\n",
    "if savefigs:\n",
    "    fig.savefig('../results/P3-activity-norm')"
   ]
  },
  {
   "cell_type": "code",
   "execution_count": 62,
   "id": "d76f2005",
   "metadata": {},
   "outputs": [
    {
     "data": {
      "text/plain": [
       "(105, 2)"
      ]
     },
     "execution_count": 62,
     "metadata": {},
     "output_type": "execute_result"
    }
   ],
   "source": [
    "random_metagons.shape"
   ]
  },
  {
   "cell_type": "code",
   "execution_count": 139,
   "id": "81647483",
   "metadata": {},
   "outputs": [
    {
     "data": {
      "text/plain": [
       "Parameter containing:\n",
       "tensor(153.5272, requires_grad=True)"
      ]
     },
     "execution_count": 139,
     "metadata": {},
     "output_type": "execute_result"
    }
   ],
   "source": [
    "import copy \n",
    "model2 = copy.deepcopy(model)\n",
    "\n",
    "random_metagons = model2.phases.detach().numpy()[:,None] + metagon.sample(15)[None]\n",
    "#random_metagons = metagon.sample(7*15)[None]\n",
    "random_metagons = random_metagons.reshape(-1,2)\n",
    "random_metagons = model2.unit_cell.wrap(random_metagons)\n",
    "model2.set_phases(random_metagons)\n",
    "model2.set_scale() # reset the CI scale now that there are more neurons in the module"
   ]
  },
  {
   "cell_type": "code",
   "execution_count": 141,
   "id": "64825741",
   "metadata": {},
   "outputs": [
    {
     "name": "stdout",
     "output_type": "stream",
     "text": [
      "0.30646905292241006\n"
     ]
    },
    {
     "data": {
      "image/png": "[encoded data removed]",
      "text/plain": [
       "<Figure size 238.688x179.016 with 2 Axes>"
      ]
     },
     "metadata": {},
     "output_type": "display_data"
    }
   ],
   "source": [
    "fig, ax = plt.subplots(figsize=set_size(fraction=(1/3,1/4),mode='square'))\n",
    "# KDE\n",
    "kde, mesh = model2.phase_kde(bw_method=0.1)[:2]\n",
    "kde = kde / (np.sum(kde) * model.unit_cell.area / len(kde)) # normalize to unit integral\n",
    "im = ax.scatter(*mesh.T,c=kde)\n",
    "ax.set_title(np.around(model2.grid_score(bw_method=0.2),2),fontsize='small')\n",
    "\n",
    "#model.unit_cell.plot(fig,ax,color='black')\n",
    "#metagon.plot(fig,ax,color=color_cycler[1])\n",
    "ax.scatter(*random_metagons.T, color='grey')\n",
    "ax.axis('off')\n",
    "ax.axis('equal')\n",
    "\n",
    "# add colorbar\n",
    "divider = make_axes_locatable(ax)\n",
    "cax = divider.append_axes('right', size='5%', pad=0.05)\n",
    "cbar = plt.colorbar(im, cax=cax, orientation='vertical')\n",
    "\n",
    "# print standard deviation of the KDE\n",
    "print(np.std(10*kde))\n",
    "\n",
    "fig.tight_layout(pad=0.35, w_pad=0, h_pad=0)\n",
    "if savefigs:\n",
    "    fig.savefig('../results/P3-metagon-kde')"
   ]
  },
  {
   "cell_type": "code",
   "execution_count": 118,
   "id": "53b6cbef",
   "metadata": {},
   "outputs": [
    {
     "data": {
      "text/plain": [
       "(array([0.95888961, 0.94592028, 0.92935776, ..., 0.97195193, 0.97145951,\n",
       "        0.96573175]),\n",
       " 0.8660254037844388)"
      ]
     },
     "execution_count": 118,
     "metadata": {},
     "output_type": "execute_result"
    }
   ],
   "source": [
    "kde, np.mean(kde)"
   ]
  },
  {
   "cell_type": "code",
   "execution_count": 119,
   "id": "df1b2e48",
   "metadata": {},
   "outputs": [
    {
     "data": {
      "text/plain": [
       "1.0000000000000002"
      ]
     },
     "execution_count": 119,
     "metadata": {},
     "output_type": "execute_result"
    }
   ],
   "source": [
    "(np.sum(kde) * model.unit_cell.area / len(kde))"
   ]
  },
  {
   "cell_type": "code",
   "execution_count": 35,
   "id": "9c6b3108",
   "metadata": {},
   "outputs": [
    {
     "data": {
      "text/plain": [
       "(1.1547005383792515, (4096,))"
      ]
     },
     "execution_count": 35,
     "metadata": {},
     "output_type": "execute_result"
    }
   ],
   "source": [
    "model.unit_cell.area, kde.shape"
   ]
  },
  {
   "cell_type": "code",
   "execution_count": 37,
   "id": "721e080a",
   "metadata": {},
   "outputs": [
    {
     "data": {
      "text/plain": [
       "0.05263157894735137"
      ]
     },
     "execution_count": 37,
     "metadata": {},
     "output_type": "execute_result"
    }
   ],
   "source": [
    "# integrate the KDE\n",
    "integral = np.sum(kde) * model.unit_cell.area / kde.shape[0]\n",
    "integral"
   ]
  },
  {
   "cell_type": "code",
   "execution_count": 40,
   "id": "1d640aed",
   "metadata": {},
   "outputs": [
    {
     "data": {
      "text/plain": [
       "(4096, 2)"
      ]
     },
     "execution_count": 40,
     "metadata": {},
     "output_type": "execute_result"
    }
   ],
   "source": [
    "mesh.shape"
   ]
  },
  {
   "cell_type": "code",
   "execution_count": 41,
   "id": "a41741a3",
   "metadata": {},
   "outputs": [
    {
     "name": "stdout",
     "output_type": "stream",
     "text": [
      "2364801373.8659935\n"
     ]
    },
    {
     "ename": "IndexError",
     "evalue": "tuple index out of range",
     "output_type": "error",
     "traceback": [
      "\u001b[0;31m---------------------------------------------------------------------------\u001b[0m",
      "\u001b[0;31mIndexError\u001b[0m                                Traceback (most recent call last)",
      "Input \u001b[0;32mIn [41]\u001b[0m, in \u001b[0;36m<cell line: 4>\u001b[0;34m()\u001b[0m\n\u001b[1;32m      2\u001b[0m integral \u001b[38;5;241m=\u001b[39m scipy\u001b[38;5;241m.\u001b[39mintegrate\u001b[38;5;241m.\u001b[39msimps(kde, x\u001b[38;5;241m=\u001b[39mmesh[:,\u001b[38;5;241m0\u001b[39m], axis\u001b[38;5;241m=\u001b[39m\u001b[38;5;241m0\u001b[39m)\n\u001b[1;32m      3\u001b[0m \u001b[38;5;28mprint\u001b[39m(integral)\n\u001b[0;32m----> 4\u001b[0m integral \u001b[38;5;241m=\u001b[39m \u001b[43mscipy\u001b[49m\u001b[38;5;241;43m.\u001b[39;49m\u001b[43mintegrate\u001b[49m\u001b[38;5;241;43m.\u001b[39;49m\u001b[43msimps\u001b[49m\u001b[43m(\u001b[49m\u001b[43mintegral\u001b[49m\u001b[43m,\u001b[49m\u001b[43m \u001b[49m\u001b[43mx\u001b[49m\u001b[38;5;241;43m=\u001b[39;49m\u001b[43mmesh\u001b[49m\u001b[43m[\u001b[49m\u001b[43m:\u001b[49m\u001b[43m,\u001b[49m\u001b[38;5;241;43m1\u001b[39;49m\u001b[43m]\u001b[49m\u001b[43m,\u001b[49m\u001b[43m \u001b[49m\u001b[43maxis\u001b[49m\u001b[38;5;241;43m=\u001b[39;49m\u001b[38;5;241;43m0\u001b[39;49m\u001b[43m)\u001b[49m\n\u001b[1;32m      5\u001b[0m integral \u001b[38;5;241m*\u001b[39m\u001b[38;5;241m=\u001b[39m model\u001b[38;5;241m.\u001b[39munit_cell\u001b[38;5;241m.\u001b[39marea \u001b[38;5;241m/\u001b[39m kde\u001b[38;5;241m.\u001b[39mshape[\u001b[38;5;241m0\u001b[39m]\n\u001b[1;32m      6\u001b[0m integral\n",
      "File \u001b[0;32m~/opt/anaconda3/envs/ml/lib/python3.9/site-packages/scipy/integrate/_quadrature.py:436\u001b[0m, in \u001b[0;36msimps\u001b[0;34m(y, x, dx, axis, even)\u001b[0m\n\u001b[1;32m    430\u001b[0m \u001b[38;5;28;01mdef\u001b[39;00m \u001b[38;5;21msimps\u001b[39m(y, x\u001b[38;5;241m=\u001b[39m\u001b[38;5;28;01mNone\u001b[39;00m, dx\u001b[38;5;241m=\u001b[39m\u001b[38;5;241m1.0\u001b[39m, axis\u001b[38;5;241m=\u001b[39m\u001b[38;5;241m-\u001b[39m\u001b[38;5;241m1\u001b[39m, even\u001b[38;5;241m=\u001b[39m\u001b[38;5;124m'\u001b[39m\u001b[38;5;124mavg\u001b[39m\u001b[38;5;124m'\u001b[39m):\n\u001b[1;32m    431\u001b[0m     \u001b[38;5;124;03m\"\"\"An alias of `simpson`.\u001b[39;00m\n\u001b[1;32m    432\u001b[0m \n\u001b[1;32m    433\u001b[0m \u001b[38;5;124;03m    `simps` is kept for backwards compatibility. For new code, prefer\u001b[39;00m\n\u001b[1;32m    434\u001b[0m \u001b[38;5;124;03m    `simpson` instead.\u001b[39;00m\n\u001b[1;32m    435\u001b[0m \u001b[38;5;124;03m    \"\"\"\u001b[39;00m\n\u001b[0;32m--> 436\u001b[0m     \u001b[38;5;28;01mreturn\u001b[39;00m \u001b[43msimpson\u001b[49m\u001b[43m(\u001b[49m\u001b[43my\u001b[49m\u001b[43m,\u001b[49m\u001b[43m \u001b[49m\u001b[43mx\u001b[49m\u001b[38;5;241;43m=\u001b[39;49m\u001b[43mx\u001b[49m\u001b[43m,\u001b[49m\u001b[43m \u001b[49m\u001b[43mdx\u001b[49m\u001b[38;5;241;43m=\u001b[39;49m\u001b[43mdx\u001b[49m\u001b[43m,\u001b[49m\u001b[43m \u001b[49m\u001b[43maxis\u001b[49m\u001b[38;5;241;43m=\u001b[39;49m\u001b[43maxis\u001b[49m\u001b[43m,\u001b[49m\u001b[43m \u001b[49m\u001b[43meven\u001b[49m\u001b[38;5;241;43m=\u001b[39;49m\u001b[43meven\u001b[49m\u001b[43m)\u001b[49m\n",
      "File \u001b[0;32m~/opt/anaconda3/envs/ml/lib/python3.9/site-packages/scipy/integrate/_quadrature.py:511\u001b[0m, in \u001b[0;36msimpson\u001b[0;34m(y, x, dx, axis, even)\u001b[0m\n\u001b[1;32m    509\u001b[0m y \u001b[38;5;241m=\u001b[39m np\u001b[38;5;241m.\u001b[39masarray(y)\n\u001b[1;32m    510\u001b[0m nd \u001b[38;5;241m=\u001b[39m \u001b[38;5;28mlen\u001b[39m(y\u001b[38;5;241m.\u001b[39mshape)\n\u001b[0;32m--> 511\u001b[0m N \u001b[38;5;241m=\u001b[39m \u001b[43my\u001b[49m\u001b[38;5;241;43m.\u001b[39;49m\u001b[43mshape\u001b[49m\u001b[43m[\u001b[49m\u001b[43maxis\u001b[49m\u001b[43m]\u001b[49m\n\u001b[1;32m    512\u001b[0m last_dx \u001b[38;5;241m=\u001b[39m dx\n\u001b[1;32m    513\u001b[0m first_dx \u001b[38;5;241m=\u001b[39m dx\n",
      "\u001b[0;31mIndexError\u001b[0m: tuple index out of range"
     ]
    }
   ],
   "source": [
    "# numerically integrate the KDE with scipy on the 2D mesh\n",
    "integral = scipy.integrate.simps(kde, x=mesh[:,0], axis=0)\n",
    "print(integral)\n",
    "integral = scipy.integrate.simps(integral, x=mesh[:,1], axis=0)\n",
    "integral *= model.unit_cell.area / kde.shape[0]\n",
    "integral"
   ]
  },
  {
   "cell_type": "code",
   "execution_count": 24,
   "id": "a37f23ce",
   "metadata": {},
   "outputs": [
    {
     "data": {
      "text/plain": [
       "186.69684494210645"
      ]
     },
     "execution_count": 24,
     "metadata": {},
     "output_type": "execute_result"
    }
   ],
   "source": [
    "np.sum(kde)"
   ]
  },
  {
   "cell_type": "code",
   "execution_count": 14,
   "id": "5a02591e",
   "metadata": {},
   "outputs": [
    {
     "data": {
      "text/plain": [
       "(tensor(3.3206e-09, grad_fn=<AddBackward0>),\n",
       " tensor(6.4795e-12, grad_fn=<AddBackward0>))"
      ]
     },
     "execution_count": 14,
     "metadata": {},
     "output_type": "execute_result"
    }
   ],
   "source": [
    "mesh = model.unit_cell.mesh(100)\n",
    "model2.CI_metric(r=mesh), model.CI_metric(r=mesh), "
   ]
  },
  {
   "cell_type": "code",
   "execution_count": 15,
   "id": "69171015",
   "metadata": {},
   "outputs": [
    {
     "data": {
      "text/plain": [
       "(8.969009562820318e-12, 1.578033925753175e-09)"
      ]
     },
     "execution_count": 15,
     "metadata": {},
     "output_type": "execute_result"
    }
   ],
   "source": [
    "model.loss_fn(t_mesh).item(), model2.loss_fn(t_mesh).item()"
   ]
  },
  {
   "cell_type": "code",
   "execution_count": 16,
   "id": "ea483264",
   "metadata": {},
   "outputs": [
    {
     "data": {
      "text/plain": [
       "1.4206773778224768e-11"
      ]
     },
     "execution_count": 16,
     "metadata": {},
     "output_type": "execute_result"
    }
   ],
   "source": [
    "7.103386889112384e-12 * 2"
   ]
  },
  {
   "cell_type": "code",
   "execution_count": 17,
   "id": "c3b8d1fc",
   "metadata": {},
   "outputs": [],
   "source": [
    "X = np.random.uniform(size=(4,4))"
   ]
  },
  {
   "cell_type": "code",
   "execution_count": 18,
   "id": "7b5eb1b1",
   "metadata": {},
   "outputs": [
    {
     "data": {
      "text/plain": [
       "array([[1.48670042, 0.7458758 , 0.35643402, 1.80629005],\n",
       "       [0.7458758 , 1.0868435 , 0.58075085, 1.28731984],\n",
       "       [0.35643402, 0.58075085, 0.37490349, 0.69336868],\n",
       "       [1.80629005, 1.28731984, 0.69336868, 2.44234677]])"
      ]
     },
     "execution_count": 18,
     "metadata": {},
     "output_type": "execute_result"
    }
   ],
   "source": [
    "X.T @ X"
   ]
  },
  {
   "cell_type": "code",
   "execution_count": 19,
   "id": "6fa51138",
   "metadata": {},
   "outputs": [
    {
     "data": {
      "text/plain": [
       "array([[1.48670042, 0.7458758 , 0.35643402, 1.80629005],\n",
       "       [0.7458758 , 1.0868435 , 0.58075085, 1.28731984],\n",
       "       [0.35643402, 0.58075085, 0.37490349, 0.69336868],\n",
       "       [1.80629005, 1.28731984, 0.69336868, 2.44234677]])"
      ]
     },
     "execution_count": 19,
     "metadata": {},
     "output_type": "execute_result"
    }
   ],
   "source": [
    "X[:2].T @ X[:2] + X[2:].T @ X[2:]"
   ]
  },
  {
   "cell_type": "code",
   "execution_count": null,
   "metadata": {},
   "outputs": [],
   "source": []
  }
 ],
 "metadata": {
  "kernelspec": {
   "display_name": "ml",
   "language": "python",
   "name": "python3"
  },
  "language_info": {
   "codemirror_mode": {
    "name": "ipython",
    "version": 3
   },
   "file_extension": ".py",
   "mimetype": "text/x-python",
   "name": "python",
   "nbconvert_exporter": "python",
   "pygments_lexer": "ipython3",
   "version": "3.9.18"
  }
 },
 "nbformat": 4,
 "nbformat_minor": 5
}
