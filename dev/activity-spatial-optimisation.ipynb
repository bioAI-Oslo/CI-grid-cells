{
 "cells": [
  {
   "cell_type": "code",
   "execution_count": 1,
   "id": "6e669e93-fcbc-40c0-aff9-7943507bf8d3",
   "metadata": {},
   "outputs": [],
   "source": [
    "%load_ext autoreload\n",
    "%autoreload 2\n",
    "#%matplotlib notebook\n",
    "%matplotlib inline\n",
    "#%matplotlib widget"
   ]
  },
  {
   "cell_type": "code",
   "execution_count": 2,
   "id": "d2cbca1b-8a61-4a2d-9520-611affa53cc1",
   "metadata": {},
   "outputs": [],
   "source": [
    "import numpy as np\n",
    "import umap\n",
    "from sklearn.decomposition import PCA\n",
    "import tqdm\n",
    "\n",
    "import matplotlib\n",
    "import matplotlib.pyplot as plt\n",
    "plt.style.use('bioAI.mplstyle')\n",
    "\n",
    "import sys\n",
    "sys.path.append('../') if '../' not in sys.path else None \n",
    "from methods import *\n",
    "from plotting_functions import *"
   ]
  },
  {
   "cell_type": "code",
   "execution_count": 3,
   "id": "84c5b67c-6fdd-4e7f-8b23-d696109d8fd9",
   "metadata": {},
   "outputs": [],
   "source": [
    "nx,ny = 3,3 # board size\n",
    "res = 64\n",
    "\n",
    "# initialize board\n",
    "xx, yy = np.meshgrid(\n",
    "    np.linspace(-nx/2, nx/2, res),\n",
    "    np.linspace(-ny/2, ny/2, res),\n",
    ")\n",
    "board = np.stack([xx, yy], axis=-1)\n",
    "\n",
    "# initialize grid module\n",
    "T = 1\n",
    "f = 1/T\n",
    "orientation_offset = 0\n",
    "center = np.zeros(2)\n",
    "#board += center\n",
    "\n",
    "#gridmodule = GridModule(center,orientation_offset,f,non_negative=False,add=True)\n",
    "gridmodule = SquareGridModule(center,orientation_offset,f,non_negative=False,add=True)"
   ]
  },
  {
   "cell_type": "code",
   "execution_count": 4,
   "id": "0a95fd07-7d9c-4d41-8307-475b537f6ee7",
   "metadata": {},
   "outputs": [
    {
     "data": {
      "text/plain": [
       "((3, 2), (3, 64, 64))"
      ]
     },
     "execution_count": 4,
     "metadata": {},
     "output_type": "execute_result"
    }
   ],
   "source": [
    "#phases = gridmodule.inner_hexagon.sample(3,seed=3)\n",
    "phases = gridmodule.inner_square.sample(3,seed=3)\n",
    "gridmodule.init_module(phases)\n",
    "ratemaps = gridmodule(board)\n",
    "#masked_ratemaps = gridmodule.masked_ratemaps(board)\n",
    "phases.shape, ratemaps.shape"
   ]
  },
  {
   "cell_type": "code",
   "execution_count": 5,
   "id": "972a4c3c-892b-415a-8598-6a6bf99fb0b0",
   "metadata": {},
   "outputs": [
    {
     "data": {
      "text/plain": [
       "(<Figure size 300x300 with 1 Axes>, <AxesSubplot:>)"
      ]
     },
     "execution_count": 5,
     "metadata": {},
     "output_type": "execute_result"
    },
    {
     "data": {
      "image/png": "[encoded data removed]",
      "text/plain": [
       "<Figure size 144x144 with 1 Axes>"
      ]
     },
     "metadata": {
      "needs_background": "light"
     },
     "output_type": "display_data"
    }
   ],
   "source": [
    "gridmodule.plot(figsize=(2,2))"
   ]
  },
  {
   "cell_type": "code",
   "execution_count": 7,
   "id": "137a2043-f326-4b4d-abb5-14e7c94e9a7a",
   "metadata": {},
   "outputs": [
    {
     "data": {
      "text/plain": [
       "<matplotlib.colorbar.Colorbar at 0x7f87ac83b490>"
      ]
     },
     "execution_count": 7,
     "metadata": {},
     "output_type": "execute_result"
    },
    {
     "data": {
      "image/png": "[encoded data removed]",
      "text/plain": [
       "<Figure size 432x288 with 2 Axes>"
      ]
     },
     "metadata": {
      "needs_background": "light"
     },
     "output_type": "display_data"
    }
   ],
   "source": [
    "plt.imshow(ratemaps[0])\n",
    "plt.axis('off')\n",
    "plt.colorbar()"
   ]
  },
  {
   "cell_type": "markdown",
   "id": "eff2af67-4113-43bc-8c15-fca13a78486a",
   "metadata": {},
   "source": [
    "## Find roots (optimise) of spatial position, given activity"
   ]
  },
  {
   "cell_type": "code",
   "execution_count": 8,
   "id": "e7704035-001c-430c-89e0-2c1ddadd88d3",
   "metadata": {},
   "outputs": [],
   "source": [
    "def loss_fn_wrapper(activity, gridmodule):\n",
    "    # activity: (ncells,)\n",
    "    def loss_fn(loc):\n",
    "        return np.sum((gridmodule(loc) - activity)**2)\n",
    "    return loss_fn"
   ]
  },
  {
   "cell_type": "code",
   "execution_count": 9,
   "id": "987f9f04-bee4-4ac1-96b1-705b0ce8e5e3",
   "metadata": {},
   "outputs": [
    {
     "data": {
      "text/plain": [
       "      fun: 3.167528709791339e-12\n",
       " hess_inv: array([[ 0.58812258, -0.50169553],\n",
       "       [-0.50169553,  0.6154876 ]])\n",
       "      jac: array([-9.19856566e-07,  2.41425016e-06])\n",
       "  message: 'Optimization terminated successfully.'\n",
       "     nfev: 39\n",
       "      nit: 8\n",
       "     njev: 13\n",
       "   status: 0\n",
       "  success: True\n",
       "        x: array([1.49999823, 0.50000195])"
      ]
     },
     "execution_count": 9,
     "metadata": {},
     "output_type": "execute_result"
    }
   ],
   "source": [
    "# example decoding\n",
    "import scipy\n",
    "solution = np.array([0.5,0.5])\n",
    "loss_fn = loss_fn_wrapper(gridmodule(solution), gridmodule)\n",
    "scipy.optimize.minimize(loss_fn,np.array([0.3,0.3]))"
   ]
  },
  {
   "cell_type": "code",
   "execution_count": 10,
   "id": "d19e2c2b-52a8-4dc1-b9d5-6f084703ef04",
   "metadata": {},
   "outputs": [],
   "source": [
    "def decode_via_optimisation(activity,gridmodule,x0):\n",
    "    \"\"\"\n",
    "    params:\n",
    "        activity: (ncells,) grid cells ensemble activity that we want to decode to space \n",
    "        gridmodule: Gridmodule object\n",
    "        x0: initial spatial coordiante to start with (2,)\n",
    "    \"\"\"\n",
    "    loss_fn = loss_fn_wrapper(activity, gridmodule)\n",
    "    return scipy.optimize.minimize(loss_fn,x0)"
   ]
  },
  {
   "cell_type": "code",
   "execution_count": 53,
   "id": "9528769b-6f7b-40b1-99ce-6cf47f237f4e",
   "metadata": {},
   "outputs": [
    {
     "name": "stderr",
     "output_type": "stream",
     "text": [
      "100%|█████████████████████████████████████████████████████████████████████████████| 64/64 [00:10<00:00,  6.00it/s]\n"
     ]
    }
   ],
   "source": [
    "label_pos = np.random.uniform(-T/2, T/2, size=2)\n",
    "label_pos = np.array([0.29187213, -0.18899286])\n",
    "activity = gridmodule(label_pos)\n",
    "\n",
    "decoded_pos = np.zeros_like(board)\n",
    "for i in tqdm.trange(res):\n",
    "    for j in range(res):\n",
    "        decoded_pos[i,j] = decode_via_optimisation(activity,gridmodule,board[i,j]).x"
   ]
  },
  {
   "cell_type": "code",
   "execution_count": 54,
   "id": "ea57b6e1-1889-4fc7-af2f-562627f35937",
   "metadata": {},
   "outputs": [],
   "source": [
    "#heuristic_origin = np.mean(phases,axis=0)\n",
    "#heuristic_origin -= 0.5/T\n",
    "#decoded_modulo_pos = (decoded_pos - heuristic_origin) % T\n",
    "decoded_modulo_pos = (decoded_pos + 0.5*T) % T\n",
    "decoded_modulo_pos -= 0.5*T"
   ]
  },
  {
   "cell_type": "code",
   "execution_count": 67,
   "id": "eb0f8877-9618-4c38-ae47-1f73a2d533ec",
   "metadata": {},
   "outputs": [
    {
     "data": {
      "text/plain": [
       "array([[-0.4727,  0.2443],\n",
       "       [ 0.2919, -0.189 ]])"
      ]
     },
     "execution_count": 67,
     "metadata": {},
     "output_type": "execute_result"
    }
   ],
   "source": [
    "np.unique(np.around(decoded_modulo_pos,decimals=4).reshape(-1,2),axis=0)"
   ]
  },
  {
   "cell_type": "code",
   "execution_count": 55,
   "id": "052bfe21-cb34-4c7b-a70e-669b3916fb42",
   "metadata": {},
   "outputs": [],
   "source": [
    "#-0.24187328,  0.075241 leads to 0.29187213, -0.18899286\n",
    "# 0.29187213, -0.18899286 leads to -0.47272336,  0.24432241\n",
    "# => non-symmetrical solutions?"
   ]
  },
  {
   "cell_type": "code",
   "execution_count": 56,
   "id": "33fc9e49-a3be-43b1-8c20-13fe97002e6d",
   "metadata": {},
   "outputs": [
    {
     "data": {
      "text/plain": [
       "<matplotlib.collections.PathCollection at 0x7f87a39887f0>"
      ]
     },
     "execution_count": 56,
     "metadata": {},
     "output_type": "execute_result"
    },
    {
     "data": {
      "image/png": "[encoded data removed]",
      "text/plain": [
       "<Figure size 288x288 with 1 Axes>"
      ]
     },
     "metadata": {
      "needs_background": "light"
     },
     "output_type": "display_data"
    }
   ],
   "source": [
    "fig, ax = gridmodule.plot(figsize=(4,4))\n",
    "ax.scatter(*decoded_modulo_pos.reshape(-1,2).T, s=50, color='green')#, label='pred')\n",
    "ax.scatter(*label_pos, s=20, color='red')#, label='true')\n",
    "#ax.legend()\n",
    "#ax.axis('off')"
   ]
  },
  {
   "cell_type": "code",
   "execution_count": null,
   "id": "7baa0b70-3e14-4d84-87f8-555c26c64fc2",
   "metadata": {},
   "outputs": [],
   "source": []
  }
 ],
 "metadata": {
  "kernelspec": {
   "display_name": "Python [conda env:ml]",
   "language": "python",
   "name": "conda-env-ml-py"
  },
  "language_info": {
   "codemirror_mode": {
    "name": "ipython",
    "version": 3
   },
   "file_extension": ".py",
   "mimetype": "text/x-python",
   "name": "python",
   "nbconvert_exporter": "python",
   "pygments_lexer": "ipython3",
   "version": "3.9.9"
  }
 },
 "nbformat": 4,
 "nbformat_minor": 5
}
