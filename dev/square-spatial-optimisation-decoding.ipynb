{
 "cells": [
  {
   "cell_type": "code",
   "execution_count": 1,
   "id": "6e669e93-fcbc-40c0-aff9-7943507bf8d3",
   "metadata": {},
   "outputs": [],
   "source": [
    "%load_ext autoreload\n",
    "%autoreload 2\n",
    "#%matplotlib notebook\n",
    "%matplotlib inline\n",
    "#%matplotlib widget"
   ]
  },
  {
   "cell_type": "code",
   "execution_count": 2,
   "id": "d2cbca1b-8a61-4a2d-9520-611affa53cc1",
   "metadata": {},
   "outputs": [],
   "source": [
    "import numpy as np\n",
    "import scipy\n",
    "import umap\n",
    "from sklearn.decomposition import PCA\n",
    "import tqdm\n",
    "\n",
    "import matplotlib\n",
    "import matplotlib.pyplot as plt\n",
    "plt.style.use('bioAI.mplstyle')\n",
    "\n",
    "import sys\n",
    "sys.path.append('../') if '../' not in sys.path else None \n",
    "from methods import *\n",
    "from plotting_functions import *"
   ]
  },
  {
   "cell_type": "code",
   "execution_count": 3,
   "id": "84c5b67c-6fdd-4e7f-8b23-d696109d8fd9",
   "metadata": {},
   "outputs": [],
   "source": [
    "nx,ny = 3,3 # board size\n",
    "res = 8\n",
    "\n",
    "# initialize board\n",
    "xx, yy = np.meshgrid(\n",
    "    np.linspace(-nx/2, nx/2, res),\n",
    "    np.linspace(-ny/2, ny/2, res),\n",
    ")\n",
    "board = np.stack([xx, yy], axis=-1)\n",
    "\n",
    "# initialize grid module\n",
    "T = 1\n",
    "f = 1/T\n",
    "orientation_offset = 0\n",
    "center = np.zeros(2)\n",
    "#board += center\n",
    "\n",
    "gridmodule = SquareGridModule(center,orientation_offset,f,non_negative=False,add=True)"
   ]
  },
  {
   "cell_type": "code",
   "execution_count": 4,
   "id": "0a95fd07-7d9c-4d41-8307-475b537f6ee7",
   "metadata": {},
   "outputs": [
    {
     "data": {
      "text/plain": [
       "((3, 2), (3, 8, 8))"
      ]
     },
     "execution_count": 4,
     "metadata": {},
     "output_type": "execute_result"
    }
   ],
   "source": [
    "phases = gridmodule.inner_square.sample(3,seed=3)\n",
    "gridmodule.init_module(phases)\n",
    "ratemaps = gridmodule(board)\n",
    "phases.shape, ratemaps.shape"
   ]
  },
  {
   "cell_type": "code",
   "execution_count": 5,
   "id": "972a4c3c-892b-415a-8598-6a6bf99fb0b0",
   "metadata": {},
   "outputs": [
    {
     "data": {
      "text/plain": [
       "(<Figure size 300x300 with 1 Axes>, <AxesSubplot:>)"
      ]
     },
     "execution_count": 5,
     "metadata": {},
     "output_type": "execute_result"
    },
    {
     "data": {
      "image/png": "[encoded data removed]",
      "text/plain": [
       "<Figure size 300x300 with 1 Axes>"
      ]
     },
     "metadata": {},
     "output_type": "display_data"
    }
   ],
   "source": [
    "gridmodule.plot(figsize=(2,2))"
   ]
  },
  {
   "cell_type": "code",
   "execution_count": 6,
   "id": "137a2043-f326-4b4d-abb5-14e7c94e9a7a",
   "metadata": {},
   "outputs": [
    {
     "data": {
      "text/plain": [
       "<matplotlib.colorbar.Colorbar at 0x7fa888fd1760>"
      ]
     },
     "execution_count": 6,
     "metadata": {},
     "output_type": "execute_result"
    },
    {
     "data": {
      "image/png": "[encoded data removed]",
      "text/plain": [
       "<Figure size 960x720 with 2 Axes>"
      ]
     },
     "metadata": {},
     "output_type": "display_data"
    }
   ],
   "source": [
    "plt.imshow(ratemaps[0])\n",
    "plt.axis('off')\n",
    "plt.colorbar()"
   ]
  },
  {
   "cell_type": "markdown",
   "id": "eff2af67-4113-43bc-8c15-fca13a78486a",
   "metadata": {},
   "source": [
    "## Find roots (optimise) of spatial position, given activity"
   ]
  },
  {
   "cell_type": "code",
   "execution_count": 7,
   "id": "e7704035-001c-430c-89e0-2c1ddadd88d3",
   "metadata": {},
   "outputs": [],
   "source": [
    "def loss_fn_wrapper(activity, gridmodule):\n",
    "    # activity: (ncells,)\n",
    "    def loss_fn(loc):\n",
    "        return np.sum((gridmodule(loc) - activity)**2)\n",
    "    return loss_fn"
   ]
  },
  {
   "cell_type": "code",
   "execution_count": 8,
   "id": "d19e2c2b-52a8-4dc1-b9d5-6f084703ef04",
   "metadata": {},
   "outputs": [],
   "source": [
    "def decode_via_optimisation(activity,gridmodule,x0):\n",
    "    \"\"\"\n",
    "    params:\n",
    "        activity: (ncells,) grid cells ensemble activity that we want to decode to space \n",
    "        gridmodule: Gridmodule object\n",
    "        x0: initial spatial coordiante to start with (2,)\n",
    "    \"\"\"\n",
    "    loss_fn = loss_fn_wrapper(activity, gridmodule)\n",
    "    return scipy.optimize.minimize(loss_fn,x0)"
   ]
  },
  {
   "cell_type": "code",
   "execution_count": 9,
   "id": "9528769b-6f7b-40b1-99ce-6cf47f237f4e",
   "metadata": {},
   "outputs": [
    {
     "name": "stderr",
     "output_type": "stream",
     "text": [
      "100%|█████████████████████████████████████████████| 8/8 [00:01<00:00,  7.03it/s]\n",
      "100%|█████████████████████████████████████████████| 8/8 [00:01<00:00,  6.56it/s]\n",
      "100%|█████████████████████████████████████████████| 8/8 [00:01<00:00,  6.99it/s]\n",
      "100%|█████████████████████████████████████████████| 8/8 [00:01<00:00,  6.93it/s]\n",
      "100%|█████████████████████████████████████████████| 8/8 [00:01<00:00,  6.07it/s]\n",
      "100%|█████████████████████████████████████████████| 8/8 [00:01<00:00,  6.70it/s]\n",
      "100%|█████████████████████████████████████████████| 8/8 [00:01<00:00,  7.13it/s]\n",
      "100%|█████████████████████████████████████████████| 8/8 [00:01<00:00,  6.72it/s]\n"
     ]
    }
   ],
   "source": [
    "spatial_decoding = [[]]*res\n",
    "\n",
    "\n",
    "label_pos = np.random.uniform(-T/2, T/2, size=2)\n",
    "label_pos = np.array([0.29187213, -0.18899286])\n",
    "\n",
    "\n",
    "unit_res = 8\n",
    "label_poss = np.zeros((unit_res,unit_res,2))\n",
    "# initialize board\n",
    "xx, yy = np.meshgrid(\n",
    "    np.linspace(-T/2, T/2, unit_res),\n",
    "    np.linspace(-T/2, T/2, unit_res),\n",
    ")\n",
    "unit_cell_grid = np.stack([xx, yy], axis=-1)\n",
    "\n",
    "\n",
    "for x in range(res):\n",
    "    for y in tqdm.trange(res):\n",
    "        label_pos = unit_cell_grid[x,y]\n",
    "        label_poss[x,y] = label_pos\n",
    "        activity = gridmodule(label_pos)\n",
    "\n",
    "        decoded_pos = np.zeros_like(board)\n",
    "        for i in range(res):\n",
    "            for j in range(res):\n",
    "                decoded_pos[i,j] = decode_via_optimisation(activity,gridmodule,board[i,j]).x\n",
    "\n",
    "        decoded_modulo_pos = (decoded_pos + 0.5*T) % T\n",
    "        decoded_modulo_pos -= 0.5*T\n",
    "                \n",
    "        unique_counts = np.unique(np.around(decoded_modulo_pos,decimals=4).reshape(-1,2),axis=0, return_counts=True)\n",
    "        spatial_decoding[x].append(unique_counts)"
   ]
  },
  {
   "cell_type": "code",
   "execution_count": 10,
   "id": "c9b2eb99-b658-4efc-ae11-63048d789c09",
   "metadata": {
    "tags": []
   },
   "outputs": [
    {
     "data": {
      "text/plain": [
       "(array([[-0.5   , -0.5   ],\n",
       "        [-0.5   ,  0.5   ],\n",
       "        [-0.0718, -0.2054],\n",
       "        [ 0.5   , -0.5   ],\n",
       "        [ 0.5   ,  0.5   ]]),\n",
       " array([ 5, 23, 20, 13,  3]))"
      ]
     },
     "execution_count": 10,
     "metadata": {},
     "output_type": "execute_result"
    }
   ],
   "source": [
    "spatial_decoding[0][0]"
   ]
  },
  {
   "cell_type": "code",
   "execution_count": 11,
   "id": "052bfe21-cb34-4c7b-a70e-669b3916fb42",
   "metadata": {},
   "outputs": [],
   "source": [
    "#-0.24187328,  0.075241 leads to 0.29187213, -0.18899286\n",
    "# 0.29187213, -0.18899286 leads to -0.47272336,  0.24432241\n",
    "# => non-symmetrical solutions?"
   ]
  },
  {
   "cell_type": "code",
   "execution_count": 12,
   "id": "33fc9e49-a3be-43b1-8c20-13fe97002e6d",
   "metadata": {},
   "outputs": [
    {
     "data": {
      "text/plain": [
       "<matplotlib.collections.PathCollection at 0x7fa87ac80d00>"
      ]
     },
     "execution_count": 12,
     "metadata": {},
     "output_type": "execute_result"
    },
    {
     "data": {
      "image/png": "[encoded data removed]",
      "text/plain": [
       "<Figure size 600x600 with 1 Axes>"
      ]
     },
     "metadata": {},
     "output_type": "display_data"
    }
   ],
   "source": [
    "fig, ax = gridmodule.plot(figsize=(4,4))\n",
    "x,y = 6,5\n",
    "ax.scatter(*spatial_decoding[x][y][0].reshape(-1,2).T, s=50, color='green')#, label='pred')\n",
    "ax.scatter(*label_poss[x,y], s=20, color='red')#, label='true')\n",
    "#ax.legend()\n",
    "#ax.axis('off')"
   ]
  },
  {
   "cell_type": "markdown",
   "id": "8994cfaa-a25a-4f5f-a965-91b11289a61d",
   "metadata": {},
   "source": [
    "### "
   ]
  }
 ],
 "metadata": {
  "kernelspec": {
   "display_name": "Python [conda env:ml]",
   "language": "python",
   "name": "conda-env-ml-py"
  },
  "language_info": {
   "codemirror_mode": {
    "name": "ipython",
    "version": 3
   },
   "file_extension": ".py",
   "mimetype": "text/x-python",
   "name": "python",
   "nbconvert_exporter": "python",
   "pygments_lexer": "ipython3",
   "version": "3.9.12"
  }
 },
 "nbformat": 4,
 "nbformat_minor": 5
}
