{
 "cells": [
  {
   "cell_type": "code",
   "execution_count": 1,
   "id": "6e669e93-fcbc-40c0-aff9-7943507bf8d3",
   "metadata": {},
   "outputs": [],
   "source": [
    "%load_ext autoreload\n",
    "%autoreload 2\n",
    "#%matplotlib notebook\n",
    "%matplotlib inline\n",
    "#%matplotlib widget"
   ]
  },
  {
   "cell_type": "code",
   "execution_count": 2,
   "id": "d2cbca1b-8a61-4a2d-9520-611affa53cc1",
   "metadata": {},
   "outputs": [],
   "source": [
    "import numpy as np\n",
    "import umap\n",
    "from sklearn.decomposition import PCA\n",
    "\n",
    "import matplotlib\n",
    "import matplotlib.pyplot as plt\n",
    "plt.style.use('bioAI.mplstyle')\n",
    "\n",
    "import sys\n",
    "sys.path.append('../') if '../' not in sys.path else None \n",
    "from methods import *\n",
    "from plotting_functions import *"
   ]
  },
  {
   "cell_type": "code",
   "execution_count": 3,
   "id": "84c5b67c-6fdd-4e7f-8b23-d696109d8fd9",
   "metadata": {},
   "outputs": [],
   "source": [
    "nx,ny = 1,1 # board size\n",
    "res = 64\n",
    "\n",
    "# initialize board\n",
    "xx, yy = np.meshgrid(\n",
    "    np.linspace(-nx/2, nx/2, res),\n",
    "    np.linspace(-ny/2, ny/2, res),\n",
    ")\n",
    "board = np.stack([xx, yy], axis=-1)\n",
    "\n",
    "# initialize grid module\n",
    "f = 1\n",
    "orientation_offset = 0\n",
    "center = np.zeros(2)\n",
    "#board += center\n",
    "\n",
    "gridmodule = GridModule(center,orientation_offset,f,non_negative=False,add=True)"
   ]
  },
  {
   "cell_type": "code",
   "execution_count": 4,
   "id": "0a95fd07-7d9c-4d41-8307-475b537f6ee7",
   "metadata": {},
   "outputs": [
    {
     "data": {
      "text/plain": [
       "((3, 2), (3, 64, 64))"
      ]
     },
     "execution_count": 4,
     "metadata": {},
     "output_type": "execute_result"
    }
   ],
   "source": [
    "phases = gridmodule.inner_hexagon.sample(3,seed=3)\n",
    "gridmodule.init_module(phases)\n",
    "ratemaps = gridmodule(board)\n",
    "masked_ratemaps = gridmodule.masked_ratemaps(board)\n",
    "phases.shape, ratemaps.shape"
   ]
  },
  {
   "cell_type": "code",
   "execution_count": 5,
   "id": "972a4c3c-892b-415a-8598-6a6bf99fb0b0",
   "metadata": {},
   "outputs": [
    {
     "data": {
      "text/plain": [
       "(<Figure size 300x300 with 1 Axes>, <AxesSubplot:>)"
      ]
     },
     "execution_count": 5,
     "metadata": {},
     "output_type": "execute_result"
    },
    {
     "data": {
      "image/png": "[encoded data removed]",
      "text/plain": [
       "<Figure size 300x300 with 1 Axes>"
      ]
     },
     "metadata": {},
     "output_type": "display_data"
    }
   ],
   "source": [
    "gridmodule.plot(figsize=(2,2))"
   ]
  },
  {
   "cell_type": "code",
   "execution_count": 6,
   "id": "61d70da2-f8d9-4760-845c-26321bae19d0",
   "metadata": {},
   "outputs": [
    {
     "data": {
      "text/plain": [
       "<matplotlib.colorbar.Colorbar at 0x7f91f00b7040>"
      ]
     },
     "execution_count": 6,
     "metadata": {},
     "output_type": "execute_result"
    },
    {
     "data": {
      "image/png": "[encoded data removed]",
      "text/plain": [
       "<Figure size 150x150 with 2 Axes>"
      ]
     },
     "metadata": {},
     "output_type": "display_data"
    }
   ],
   "source": [
    "plt.figure(figsize=(1,1))\n",
    "plt.imshow(masked_ratemaps[0])\n",
    "plt.axis('off')\n",
    "plt.colorbar()"
   ]
  },
  {
   "cell_type": "code",
   "execution_count": 7,
   "id": "e5c8804c-ef07-4179-bb50-60a4134bfb36",
   "metadata": {},
   "outputs": [],
   "source": [
    "# Create activity mesh\n",
    "activity_range = [0,1]\n",
    "res = 64\n",
    "acitivity_mesh = np.meshgrid(*[np.linspace(*activity_range, res)]*len(phases))\n",
    "acitivity_mesh = np.stack(acitivity_mesh, axis=-1)"
   ]
  },
  {
   "cell_type": "code",
   "execution_count": 27,
   "id": "4501e881-0bfc-488e-90fc-5d172df09e1f",
   "metadata": {},
   "outputs": [
    {
     "data": {
      "text/plain": [
       "masked_array(data=[--, --, --, ..., --, --, --],\n",
       "             mask=[ True,  True,  True, ...,  True,  True,  True],\n",
       "       fill_value=1e+20,\n",
       "            dtype=float64)"
      ]
     },
     "execution_count": 27,
     "metadata": {},
     "output_type": "execute_result"
    }
   ],
   "source": [
    "masked_ratemaps[masked_ratemaps.mask]"
   ]
  },
  {
   "cell_type": "code",
   "execution_count": null,
   "id": "05da6579-c104-4b88-9429-0ba5f947e8f1",
   "metadata": {},
   "outputs": [],
   "source": []
  },
  {
   "cell_type": "code",
   "execution_count": null,
   "id": "a37222c7-6819-4e7f-9864-e078f1f62ada",
   "metadata": {},
   "outputs": [],
   "source": []
  },
  {
   "cell_type": "code",
   "execution_count": null,
   "id": "c7f59eda-90d8-473f-9d37-bb681209e791",
   "metadata": {},
   "outputs": [],
   "source": [
    "def activity_histogram"
   ]
  },
  {
   "cell_type": "code",
   "execution_count": null,
   "id": "5823330f-791f-43eb-9c0e-6646f96d72a2",
   "metadata": {},
   "outputs": [],
   "source": []
  }
 ],
 "metadata": {
  "kernelspec": {
   "display_name": "Python [conda env:ml]",
   "language": "python",
   "name": "conda-env-ml-py"
  },
  "language_info": {
   "codemirror_mode": {
    "name": "ipython",
    "version": 3
   },
   "file_extension": ".py",
   "mimetype": "text/x-python",
   "name": "python",
   "nbconvert_exporter": "python",
   "pygments_lexer": "ipython3",
   "version": "3.9.12"
  }
 },
 "nbformat": 4,
 "nbformat_minor": 5
}
