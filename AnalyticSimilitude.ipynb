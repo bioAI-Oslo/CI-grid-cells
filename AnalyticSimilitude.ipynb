{
 "cells": [
  {
   "cell_type": "markdown",
   "id": "79d41c08-f347-45b7-91e4-c2402ddc3afa",
   "metadata": {},
   "source": [
    "# Square Grid Cells"
   ]
  },
  {
   "cell_type": "code",
   "execution_count": 1,
   "id": "2306024f-7f68-4f09-985a-2456159d732c",
   "metadata": {},
   "outputs": [],
   "source": [
    "import numpy as np\n",
    "from matplotlib import pyplot as plt"
   ]
  },
  {
   "cell_type": "markdown",
   "id": "b2f0f81e-48a7-4812-b4a4-9a1e7b9ce8fa",
   "metadata": {},
   "source": [
    "$0 = \\partial_{x} G_{xx} = \\frac{2\\pi}{a} \\sum_{j} \\sin{\\left( \\frac{4\\pi}{a}\\cdot(x - \\phi_{x}^{j}) \\right)}$\n",
    "\n",
    "$0 = G_{xy} = \\frac{1}{2} \\sum_{j} \\cos{\\left( \\frac{2\\pi}{a}\\, (\\xi - \\phi_{\\xi}^{j}) \\right)} + \\frac{1}{2} \\sum_{j} \\cos{\\left( \\frac{2\\pi}{a}\\, (\\eta - \\phi_{\\eta}^{j}) \\right)}$"
   ]
  },
  {
   "cell_type": "markdown",
   "id": "01e4ee93-746b-4f9b-abfc-d66096e65786",
   "metadata": {},
   "source": [
    "## Fundamental solutions\n",
    "\n",
    "$0 = \\sum_{j=1}^{N} \\cos{\\left( \\frac{2\\pi}{a}\\, (x - \\phi^{j}_{x}) \\right)} = \\sum_{j=1}^{N} \\cos{\\left( \\frac{2\\pi}{a}\\, x - \\hat{\\phi}^{j}_{x} \\right)}$"
   ]
  },
  {
   "cell_type": "code",
   "execution_count": 2,
   "id": "4172a9e5-c09f-44a8-bd34-433aa772b061",
   "metadata": {},
   "outputs": [],
   "source": [
    "N = 12\n",
    "phis = 2*np.pi*np.arange(0, N) / N\n",
    "x = np.linspace(0.0, 2*np.pi, num=50)\n",
    "S = np.cos(x[:, None] - phis[None, :]).sum(axis=-1)"
   ]
  },
  {
   "cell_type": "code",
   "execution_count": 3,
   "id": "4b720b8f-a068-4097-8e8a-864e993cd64a",
   "metadata": {},
   "outputs": [
    {
     "data": {
      "text/plain": [
       "(-1.0, 1.0)"
      ]
     },
     "execution_count": 3,
     "metadata": {},
     "output_type": "execute_result"
    },
    {
     "data": {
      "image/png": "[encoded data removed]",
      "text/plain": [
       "<Figure size 432x288 with 1 Axes>"
      ]
     },
     "metadata": {
      "needs_background": "light"
     },
     "output_type": "display_data"
    }
   ],
   "source": [
    "fig, ax = plt.subplots()\n",
    "ax.plot(x, S)\n",
    "ax.set_ylim([-1, 1])"
   ]
  },
  {
   "cell_type": "code",
   "execution_count": 4,
   "id": "bccf85bb-7b78-4ba4-8f86-caa4b7c4781f",
   "metadata": {},
   "outputs": [
    {
     "data": {
      "text/plain": [
       "-1.186550857568136e-15"
      ]
     },
     "execution_count": 4,
     "metadata": {},
     "output_type": "execute_result"
    }
   ],
   "source": [
    "S.sum()"
   ]
  },
  {
   "cell_type": "markdown",
   "id": "fad536ed-fca8-4b6f-9801-891796e1b6c2",
   "metadata": {},
   "source": [
    "## Fundamental Similitude solutions\n",
    "### N = 3"
   ]
  },
  {
   "cell_type": "code",
   "execution_count": 5,
   "id": "70b72c1e-0779-422d-8722-14a50d74672f",
   "metadata": {},
   "outputs": [],
   "source": [
    "def g_xx(a: float, phases_x: np.array, x: np.array) -> np.array:\n",
    "    return (np.sin((2*np.pi / a)*(x[:, None] - phases[None, :]))**2).sum(axis=-1)"
   ]
  },
  {
   "cell_type": "code",
   "execution_count": 6,
   "id": "19200054-05fd-434f-bc98-63ab4f6ed09e",
   "metadata": {},
   "outputs": [],
   "source": [
    "def d_g_xx(a: float, phases_x: np.array, x: np.array) -> np.array:\n",
    "    return ((2*np.pi/a)*np.sin((4*np.pi / a)*(x[:, None] - phases[None, :]))).sum(axis=-1)"
   ]
  },
  {
   "cell_type": "code",
   "execution_count": 7,
   "id": "0e176b42-0622-4be1-ae7a-9c506653fd87",
   "metadata": {},
   "outputs": [],
   "source": [
    "def g_yy(a: float, phases_y: np.array, y: np.array) -> np.array:\n",
    "    return (np.sin((2*np.pi / a)*(y[:, None] - phases[None, :]))**2).sum(axis=-1)"
   ]
  },
  {
   "cell_type": "code",
   "execution_count": 8,
   "id": "30492fed-e789-4007-9aad-15a69c982d02",
   "metadata": {},
   "outputs": [],
   "source": [
    "def d_g_yy(a: float, phases_y: np.array, y: np.array) -> np.array:\n",
    "    return ((2*np.pi/a)*np.sin((4*np.pi / a)*(y[:, None] - phases[None, :]))).sum(axis=-1)"
   ]
  },
  {
   "cell_type": "code",
   "execution_count": 9,
   "id": "4edb0a19-d50a-4c71-961c-0270aecd0e24",
   "metadata": {},
   "outputs": [],
   "source": [
    "def g_xy(a: float, phases_x: np.array, phases_y: np.array, x: np.array, y: np.array) -> np.array:\n",
    "    return (np.sin((2*np.pi / a)*(x[:, None] - phases_x[None, :]))*np.sin((2*np.pi / a)*(y[:, None] - phases_y[None, :]))).sum(axis=-1)"
   ]
  },
  {
   "cell_type": "code",
   "execution_count": 18,
   "id": "bf9c8df7-b26d-44da-b41f-ec658a4bf0e8",
   "metadata": {},
   "outputs": [],
   "source": [
    "N = 4\n",
    "a = 1.0\n",
    "\n",
    "phi_i_j = a*np.arange(0, 2*N) / (2*N)\n"
   ]
  },
  {
   "cell_type": "code",
   "execution_count": 19,
   "id": "5c0153bb-6937-405e-b98b-262c2ab5631a",
   "metadata": {},
   "outputs": [],
   "source": [
    "def cartesian_product(*arrays):\n",
    "    la = len(arrays)\n",
    "    dtype = np.result_type(*arrays)\n",
    "    arr = np.empty([len(a) for a in arrays] + [la], dtype=dtype)\n",
    "    for i, a in enumerate(np.ix_(*arrays)):\n",
    "        arr[...,i] = a\n",
    "    return arr.reshape(-1, la)"
   ]
  },
  {
   "cell_type": "code",
   "execution_count": 22,
   "id": "5bf56c0d-3c97-4e97-b853-c7bbd80125fd",
   "metadata": {},
   "outputs": [],
   "source": [
    "x = np.random.uniform(low=0.0, high=2*np.pi, size=9)\n",
    "y = np.random.uniform(low=0.0, high=2*np.pi, size=9)\n",
    "\n",
    "atol = 1e-12\n",
    "\n",
    "phases_that_work = []\n",
    "cart_product = cartesian_product(*[phi_i_j for i in range(2*N)])\n",
    "\n",
    "for phases in cart_product:\n",
    "    phases_x = phases[:N]\n",
    "    phases_y = phases[N:]\n",
    "    if (np.abs(d_g_xx(a, phases_x, x).sum()) < atol) and (np.abs(d_g_yy(a, phases_y, y).sum()) < atol) and (np.abs(g_xy(a, phases_x, phases_y, x, y)).sum() < atol):\n",
    "        phases_that_work.append(np.array([phases_x, phases_y]))\n",
    "    #phases_x, phases_y = phases.reshape(2, N)\n",
    "    #print(phi)\n",
    "    #if np.sin(2*np.pi*(x[:, None] - phases[None, :]) / a).sum(axis=-1).sum() < 1e-8:\n",
    "    #    print(phases_x)\n",
    "    #print(phases_x, phases_y)\n",
    "    #print(np.abs(g_xy(a, phases_x, phases_y, x, y).sum()))\n",
    "    #if np.abs(g_xy(a, phases_x, phases_y, x, y).sum()) < atol:\n",
    "    #    print(phases_x, phases_y)"
   ]
  },
  {
   "cell_type": "code",
   "execution_count": 23,
   "id": "d4bbdb66-04c2-48a1-87d8-0313c4a0dfd8",
   "metadata": {},
   "outputs": [
    {
     "data": {
      "text/plain": [
       "15744"
      ]
     },
     "execution_count": 23,
     "metadata": {},
     "output_type": "execute_result"
    }
   ],
   "source": [
    "len(phases_that_work)"
   ]
  },
  {
   "cell_type": "code",
   "execution_count": 27,
   "id": "913a406a-2dbc-44fd-80d8-22c448e64c3a",
   "metadata": {},
   "outputs": [
    {
     "data": {
      "text/plain": [
       "16777216"
      ]
     },
     "execution_count": 27,
     "metadata": {},
     "output_type": "execute_result"
    }
   ],
   "source": [
    "len(cart_product)"
   ]
  },
  {
   "cell_type": "code",
   "execution_count": 379,
   "id": "9a5b7434-ee37-423c-a749-dbca33f8e1a2",
   "metadata": {},
   "outputs": [
    {
     "ename": "IndexError",
     "evalue": "list index out of range",
     "output_type": "error",
     "traceback": [
      "\u001b[0;31m---------------------------------------------------------------------------\u001b[0m",
      "\u001b[0;31mIndexError\u001b[0m                                Traceback (most recent call last)",
      "Input \u001b[0;32mIn [379]\u001b[0m, in \u001b[0;36m<cell line: 1>\u001b[0;34m()\u001b[0m\n\u001b[0;32m----> 1\u001b[0m phi_x, phi_y \u001b[38;5;241m=\u001b[39m \u001b[43mphases_that_work\u001b[49m\u001b[43m[\u001b[49m\u001b[38;5;241;43m16\u001b[39;49m\u001b[43m]\u001b[49m\n\u001b[1;32m      2\u001b[0m fig, axs \u001b[38;5;241m=\u001b[39m plt\u001b[38;5;241m.\u001b[39msubplots(\u001b[38;5;241m1\u001b[39m, \u001b[38;5;241m3\u001b[39m)\n\u001b[1;32m      3\u001b[0m axs[\u001b[38;5;241m0\u001b[39m]\u001b[38;5;241m.\u001b[39mplot(g_xy(a, phi_x, phi_y, x, y))\n",
      "\u001b[0;31mIndexError\u001b[0m: list index out of range"
     ]
    }
   ],
   "source": [
    "phi_x, phi_y = phases_that_work[16]\n",
    "fig, axs = plt.subplots(1, 3)\n",
    "axs[0].plot(g_xy(a, phi_x, phi_y, x, y))\n",
    "axs[0].set_ylim([-1, 1])\n",
    "axs[1].plot(g_xx(a, phi_x, x))\n",
    "axs[2].plot(g_yy(a, phi_y, y))"
   ]
  },
  {
   "cell_type": "code",
   "execution_count": 30,
   "id": "ff9b73a0-c15e-4e1c-894f-c9ca8c431c16",
   "metadata": {},
   "outputs": [
    {
     "data": {
      "text/plain": [
       "10000000000"
      ]
     },
     "execution_count": 30,
     "metadata": {},
     "output_type": "execute_result"
    }
   ],
   "source": []
  },
  {
   "cell_type": "code",
   "execution_count": 28,
   "id": "1857b516-24a0-4ee9-b150-f8cca9cdcd6c",
   "metadata": {},
   "outputs": [
    {
     "data": {
      "text/plain": [
       "8"
      ]
     },
     "execution_count": 28,
     "metadata": {},
     "output_type": "execute_result"
    }
   ],
   "source": []
  },
  {
   "cell_type": "code",
   "execution_count": null,
   "id": "1c57edd7-32a1-4aaf-aa45-64fdb565c1a6",
   "metadata": {},
   "outputs": [],
   "source": []
  }
 ],
 "metadata": {
  "kernelspec": {
   "display_name": "Python 3 (ipykernel)",
   "language": "python",
   "name": "python3"
  },
  "language_info": {
   "codemirror_mode": {
    "name": "ipython",
    "version": 3
   },
   "file_extension": ".py",
   "mimetype": "text/x-python",
   "name": "python",
   "nbconvert_exporter": "python",
   "pygments_lexer": "ipython3",
   "version": "3.10.5"
  }
 },
 "nbformat": 4,
 "nbformat_minor": 5
}
