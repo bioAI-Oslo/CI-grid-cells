{
 "cells": [
  {
   "cell_type": "code",
   "execution_count": 1,
   "id": "cc5eeb6d-3330-4c96-94b3-a3473256df77",
   "metadata": {},
   "outputs": [],
   "source": [
    "%load_ext autoreload\n",
    "%autoreload 2\n",
    "#%matplotlib notebook\n",
    "%matplotlib inline\n",
    "#%matplotlib widget"
   ]
  },
  {
   "cell_type": "code",
   "execution_count": 2,
   "id": "0dee776d-bd38-4fb3-a630-be7c40f06e4a",
   "metadata": {},
   "outputs": [],
   "source": [
    "import numpy as np\n",
    "import torch\n",
    "from methods import *"
   ]
  },
  {
   "cell_type": "code",
   "execution_count": 3,
   "id": "26609c8f-98e3-4fc3-8081-e6f07acacc23",
   "metadata": {},
   "outputs": [],
   "source": [
    "def jacobian(tuplerise_inputs=True, tuplerise_outputs=True, **kwargs):\n",
    "    \"\"\"\n",
    "    Effort to vectorise, through tuplisation, the jacobian\n",
    "    \"\"\"\n",
    "    # tuplerise outer dim of input and outer\n",
    "    kwargs[\"inputs\"] = tuple([inp for inp in kwargs[\"inputs\"]]) if tuplerise_inputs else kwargs[\"inputs\"]\n",
    "    kwargs[\"func\"] = lambda inp: tuple([out for out in kwargs[\"func\"](inp)]) if tuplerise_outputs else kwargs[\"func\"]\n",
    "    return torch.autograd.functional.jacobian(**kwargs)"
   ]
  },
  {
   "cell_type": "code",
   "execution_count": 18,
   "id": "7f800486-e578-4d81-8c8a-79c9a8470793",
   "metadata": {},
   "outputs": [],
   "source": [
    "class GridPhases(torch.nn.Module):\n",
    "    \"\"\"\n",
    "    torch model for learning optimal grid cell phases\n",
    "    \"\"\"\n",
    "    def __init__(self, f=1, init_rot=0, dtype=torch.float32, **kwargs):\n",
    "        super(GridPhases, self).__init__(**kwargs)\n",
    "        # init static grid properties\n",
    "        self.f, self.init_rot, self.dtype = f, init_rot, dtype\n",
    "        rotmat_init = rotation_matrix(init_rot)\n",
    "        rotmat_60 = rotation_matrix(60)\n",
    "        k1 = np.array([1.0, 0.0])\n",
    "        k1 = rotmat_init @ k1\n",
    "        ks = np.array([np.linalg.matrix_power(rotmat_60, k) @ k1 for k in range(3)])\n",
    "        ks = torch.tensor(ks, dtype=dtype)\n",
    "        self.ks = ks * f * 2 * np.pi\n",
    "        # init trainable phases\n",
    "        inner_hexagon = Hexagon(f/np.sqrt(3),init_rot,np.zeros(2))\n",
    "        phases = inner_hexagon.sample(3)\n",
    "        self.phases = torch.tensor(phases,dtype=dtype,requires_grad=True)\n",
    "        self.relu = torch.nn.ReLU()\n",
    "        #torch.nn.Parameter(self.phases)\n",
    "        \n",
    "    def forward(self, r, rectify=False, unit_scale=False, cells_first=False):\n",
    "        phases = self.phases\n",
    "        for _ in range(r.ndim - 1):\n",
    "            # expand phases to include the spatial dims given by r\n",
    "            phases = phases[:,None]\n",
    "        r = r[None] # empty dim for number of phases/grid cells\n",
    "        activity = torch.cos((r - phases) @ self.ks.T)\n",
    "        activity = torch.sum(activity, axis=-1) # sum plane waves\n",
    "        activity = self.relu(activity) if rectify else activity\n",
    "        if unit_scale:\n",
    "            activity -= torch.amin(activity,dim=tuple(range(1,activity.ndim)),keepdims=True)\n",
    "            activity /= torch.amax(activity,dim=tuple(range(1,activity.ndim)),keepdims=True)\n",
    "        return activity if cells_first else torch.permute(activity, tuple(list(range(1,len(activity.shape))) + [0]))\n",
    "    \n",
    "    def jacobian(self, r):\n",
    "        \"\"\"\n",
    "        the torch jacobian is a bit nasty. It doesn't deal well with tensors for some reason..\n",
    "        It instead deals with tuples of tensors. To navigate around this, we can use python\n",
    "        map() to map each element of the (previously) vectorised inputs.\n",
    "        \n",
    "        Parameters:\n",
    "            r (nsamples, 2)\n",
    "        \"\"\"\n",
    "        J = torch.stack(list(map(lambda r: torch.autograd.functional.jacobian(self.forward, r), r)))\n",
    "        J2 = torch.transpose(J, -2, -1) @ J\n",
    "        return torch.linalg.det(J2)\n",
    "        \n",
    "    def gaussian_kde(self, activity, scale=1):\n",
    "        \"\"\"\n",
    "        activity (nsamples,3):\n",
    "        \"\"\"\n",
    "        kde = torch.sum((activity[None] - activity[:,None])**2,axis=-1)\n",
    "        kde /= scale**2\n",
    "        kde = torch.exp(kde)\n",
    "        kde = torch.sum(kde,axis=0) #axis 0 and 1 are symmetrical\n",
    "        return kde\n",
    "    \n",
    "    def loss_fn(self, activity):\n",
    "        kde_activity = self.gaussian_kde(activity)\n",
    "        return - torch.mean(kde_activity * torch.log(kde_activity))"
   ]
  },
  {
   "cell_type": "code",
   "execution_count": 19,
   "id": "75be98fd-c592-47aa-9934-382f463f5e1e",
   "metadata": {},
   "outputs": [],
   "source": [
    "model = GridPhases()"
   ]
  },
  {
   "cell_type": "code",
   "execution_count": 23,
   "id": "af42169a-db8e-48a5-b029-5dc160860b4e",
   "metadata": {},
   "outputs": [
    {
     "data": {
      "text/plain": [
       "tensor([9.4044e+03, 4.9129e+03, 3.6946e+02, 4.9975e+03, 2.9752e+03, 7.7454e+03,\n",
       "        5.4449e+02, 2.4552e+03, 2.6667e+03, 1.4195e+03, 2.1246e+03, 6.0479e+02,\n",
       "        6.5214e+03, 6.1190e+03, 1.0701e+03, 4.7259e+00, 8.5116e+02, 4.1705e+03,\n",
       "        4.9417e+03, 2.0358e+03, 3.2612e+03, 1.1792e+04, 3.3512e+03, 2.3056e+02,\n",
       "        3.5900e+02, 5.1601e+03, 4.9808e+03, 1.4418e+04, 4.0214e+02, 1.6230e+04,\n",
       "        8.6073e+03, 3.1603e+03, 3.0084e+03, 6.0379e+01, 2.8722e+03, 2.0004e+04,\n",
       "        6.3399e+03, 2.6620e+03, 4.0996e+03, 4.4349e+03, 1.3691e+03, 6.1991e+01,\n",
       "        8.4517e+02, 3.9995e+03, 3.0919e+03, 2.1452e+01, 1.1334e+03, 1.1388e+03,\n",
       "        1.0951e+04, 2.0078e+03, 4.2915e+02, 6.7819e+03, 2.8524e+02, 2.0309e+03,\n",
       "        8.5046e+02, 7.4906e+03, 7.4955e+03, 5.2302e+03, 1.0608e+03, 3.5832e+03,\n",
       "        4.6805e+03, 9.1762e+03, 1.2493e+03, 9.2493e+02])"
      ]
     },
     "execution_count": 23,
     "metadata": {},
     "output_type": "execute_result"
    }
   ],
   "source": [
    "model.jacobian(board.reshape(-1,2))"
   ]
  },
  {
   "cell_type": "code",
   "execution_count": 21,
   "id": "48f4580d-9283-4e17-a545-11669dd0fa43",
   "metadata": {},
   "outputs": [],
   "source": [
    "nx,ny = 1.2,1.2 # board size\n",
    "res = 8\n",
    "\n",
    "# initialize board\n",
    "xx, yy = np.meshgrid(\n",
    "    np.linspace(-nx/2, nx/2, res),\n",
    "    np.linspace(-ny/2, ny/2, res),\n",
    ")\n",
    "board = np.stack([xx, yy], axis=-1)\n",
    "board = torch.tensor(board,dtype=torch.float32)"
   ]
  },
  {
   "cell_type": "code",
   "execution_count": null,
   "id": "d7a9ac51-71e6-470a-bcd1-c4289c903339",
   "metadata": {},
   "outputs": [],
   "source": [
    "out = model.forward(board,unit_scale=True)\n",
    "#out = out.reshape(3,-1).T"
   ]
  },
  {
   "cell_type": "code",
   "execution_count": null,
   "id": "bb6bc96e-53c9-431d-8796-c1d4bd98356b",
   "metadata": {},
   "outputs": [],
   "source": [
    "out.shape"
   ]
  },
  {
   "cell_type": "code",
   "execution_count": null,
   "id": "37e1fe98-f09f-4f28-bd20-580d9928235f",
   "metadata": {},
   "outputs": [],
   "source": []
  },
  {
   "cell_type": "code",
   "execution_count": null,
   "id": "f59abf7f-f63e-4f64-9836-14b923163bf3",
   "metadata": {},
   "outputs": [],
   "source": [
    "model.gaussian_kde(out)"
   ]
  },
  {
   "cell_type": "code",
   "execution_count": null,
   "id": "4101c472-a9e1-473a-ac2f-b5425a918762",
   "metadata": {},
   "outputs": [],
   "source": [
    "model.loss_fn(out)"
   ]
  },
  {
   "cell_type": "code",
   "execution_count": null,
   "id": "466bb0c3-0857-4057-a11a-a77909681872",
   "metadata": {},
   "outputs": [],
   "source": [
    "out.reshape(3,-1).shape"
   ]
  },
  {
   "cell_type": "code",
   "execution_count": null,
   "id": "5d675832-d25a-48bf-bc3b-54c34e380522",
   "metadata": {},
   "outputs": [],
   "source": [
    "out.shape"
   ]
  },
  {
   "cell_type": "code",
   "execution_count": null,
   "id": "e53c09f4-082b-4c53-9c1d-80c28a3f5a44",
   "metadata": {},
   "outputs": [],
   "source": [
    "for p in model.parameters():\n",
    "    print(p)"
   ]
  },
  {
   "cell_type": "code",
   "execution_count": null,
   "id": "ec4bb245-0b78-4821-b155-1665b16bf267",
   "metadata": {},
   "outputs": [],
   "source": []
  }
 ],
 "metadata": {
  "kernelspec": {
   "display_name": "Python [conda env:ml]",
   "language": "python",
   "name": "conda-env-ml-py"
  },
  "language_info": {
   "codemirror_mode": {
    "name": "ipython",
    "version": 3
   },
   "file_extension": ".py",
   "mimetype": "text/x-python",
   "name": "python",
   "nbconvert_exporter": "python",
   "pygments_lexer": "ipython3",
   "version": "3.9.12"
  }
 },
 "nbformat": 4,
 "nbformat_minor": 5
}
