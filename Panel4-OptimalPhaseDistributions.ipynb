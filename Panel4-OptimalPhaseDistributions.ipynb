{
 "cells": [
  {
   "cell_type": "markdown",
   "id": "17e3942d-9295-47fe-ac17-6d6d54294217",
   "metadata": {},
   "source": [
    "# Panel 4 - Optimal Phase Distributions\n",
    "\n",
    "## N = 7 cells"
   ]
  },
  {
   "cell_type": "code",
   "execution_count": null,
   "id": "cd78f4e5-aa73-4c97-9fdd-709c215cdefd",
   "metadata": {},
   "outputs": [],
   "source": []
  }
 ],
 "metadata": {
  "kernelspec": {
   "display_name": "Python 3 (ipykernel)",
   "language": "python",
   "name": "python3"
  },
  "language_info": {
   "codemirror_mode": {
    "name": "ipython",
    "version": 3
   },
   "file_extension": ".py",
   "mimetype": "text/x-python",
   "name": "python",
   "nbconvert_exporter": "python",
   "pygments_lexer": "ipython3",
   "version": "3.10.5"
  }
 },
 "nbformat": 4,
 "nbformat_minor": 5
}
